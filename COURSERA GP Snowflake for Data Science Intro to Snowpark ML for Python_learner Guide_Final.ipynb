{
 "cells": [
  {
   "cell_type": "code",
   "execution_count": 1,
   "metadata": {},
   "outputs": [],
   "source": [
    "import pandas as _hex_pandas\n",
    "import datetime as _hex_datetime\n",
    "import json as _hex_json"
   ]
  },
  {
   "cell_type": "code",
   "execution_count": 2,
   "metadata": {},
   "outputs": [],
   "source": [
    "hex_scheduled = _hex_json.loads(\"false\")"
   ]
  },
  {
   "cell_type": "code",
   "execution_count": 3,
   "metadata": {},
   "outputs": [],
   "source": [
    "hex_user_email = _hex_json.loads(\"\\\"example-user@example.com\\\"\")"
   ]
  },
  {
   "cell_type": "code",
   "execution_count": 4,
   "metadata": {},
   "outputs": [],
   "source": [
    "hex_user_attributes = _hex_json.loads(\"{}\")"
   ]
  },
  {
   "cell_type": "code",
   "execution_count": 5,
   "metadata": {},
   "outputs": [],
   "source": [
    "hex_run_context = _hex_json.loads(\"\\\"logic\\\"\")"
   ]
  },
  {
   "cell_type": "code",
   "execution_count": 6,
   "metadata": {},
   "outputs": [],
   "source": [
    "hex_timezone = _hex_json.loads(\"\\\"Asia/Dubai\\\"\")"
   ]
  },
  {
   "cell_type": "code",
   "execution_count": 7,
   "metadata": {},
   "outputs": [],
   "source": [
    "hex_project_id = _hex_json.loads(\"\\\"71f2594d-0153-4edf-bddb-0244d149f1f8\\\"\")"
   ]
  },
  {
   "cell_type": "code",
   "execution_count": 8,
   "metadata": {},
   "outputs": [],
   "source": [
    "hex_project_name = _hex_json.loads(\"\\\"COURSERA GP: Snowflake for Data Science: Intro to Snowpark ML for Python_learner Guide_Final\\\"\")"
   ]
  },
  {
   "cell_type": "code",
   "execution_count": 9,
   "metadata": {},
   "outputs": [],
   "source": [
    "hex_status = _hex_json.loads(\"\\\"\\\"\")"
   ]
  },
  {
   "cell_type": "code",
   "execution_count": 10,
   "metadata": {},
   "outputs": [],
   "source": [
    "hex_categories = _hex_json.loads(\"[]\")"
   ]
  },
  {
   "cell_type": "code",
   "execution_count": 11,
   "metadata": {},
   "outputs": [],
   "source": [
    "hex_color_palette = _hex_json.loads(\"[\\\"#4C78A8\\\",\\\"#F58518\\\",\\\"#E45756\\\",\\\"#72B7B2\\\",\\\"#54A24B\\\",\\\"#EECA3B\\\",\\\"#B279A2\\\",\\\"#FF9DA6\\\",\\\"#9D755D\\\",\\\"#BAB0AC\\\"]\")"
   ]
  },
  {
   "cell_type": "markdown",
   "metadata": {},
   "source": [
    "# TASK 2 : Set-up your Snowpark for Python workspace\n",
    "- In this Task, we will walk through a how to connect HEX notebook to your Snowflake Trial Account."
   ]
  },
  {
   "cell_type": "markdown",
   "metadata": {},
   "source": [
    "#### _**a-Import Libraries**_\n",
    "\n"
   ]
  },
  {
   "cell_type": "code",
   "execution_count": 12,
   "metadata": {},
   "outputs": [],
   "source": [
    "# Snowpark for Python\n",
    "from snowflake.snowpark.version import VERSION\n",
    "import snowflake.snowpark.functions as F\n",
    "from snowflake.snowpark.types import DecimalType\n",
    "\n",
    "# Snowpark ML\n",
    "import snowflake.ml.modeling.preprocessing as snowml\n",
    "from snowflake.ml.modeling.pipeline import Pipeline\n",
    "\n",
    "# Data Science Libs\n",
    "import numpy as np\n",
    "import pandas as pd\n",
    "\n",
    "# Misc\n",
    "import joblib\n",
    "\n",
    "# warning suppresion\n",
    "import warnings; warnings.simplefilter('ignore')"
   ]
  },
  {
   "cell_type": "markdown",
   "metadata": {},
   "source": [
    "#### _**b- Establish Secure Connection to Snowflake**_\n",
    "\n"
   ]
  },
  {
   "cell_type": "code",
   "execution_count": 13,
   "metadata": {},
   "outputs": [],
   "source": [
    "from snowflake.snowpark import Session\n",
    "session = Session.builder.config(\"connection_name\", 'DIAMONDS_CONNECTION',).create()"
   ]
  },
  {
   "cell_type": "code",
   "execution_count": 14,
   "metadata": {},
   "outputs": [
    {
     "name": "stdout",
     "output_type": "stream",
     "text": [
      "User                        : JAMESMCINTYRE\n",
      "Role                        : \"ACCOUNTADMIN\"\n",
      "Database                    : \"DIAMONDS\"\n",
      "Schema                      : \"PUBLIC\"\n",
      "Warehouse                   : \"PC_HEX_WH\"\n",
      "Snowflake version           : 9.5.2\n",
      "Snowpark for Python version : 1.28.0\n"
     ]
    }
   ],
   "source": [
    "# Verify connectivity to Snowflake\n",
    "snowflake_environment = session.sql('SELECT current_user(), current_version()').collect()\n",
    "snowpark_version = VERSION\n",
    "\n",
    "# Current Environment Details\n",
    "print('User                        : {}'.format(snowflake_environment[0][0]))\n",
    "print('Role                        : {}'.format(session.get_current_role()))\n",
    "print('Database                    : {}'.format(session.get_current_database()))\n",
    "print('Schema                      : {}'.format(session.get_current_schema()))\n",
    "print('Warehouse                   : {}'.format(session.get_current_warehouse()))\n",
    "print('Snowflake version           : {}'.format(snowflake_environment[0][1]))\n",
    "print('Snowpark for Python version : {}.{}.{}'.format(snowpark_version[0],snowpark_version[1],snowpark_version[2]))"
   ]
  },
  {
   "cell_type": "markdown",
   "metadata": {},
   "source": [
    "# TASK 3 : Data Preprocessing: Transform categorical variables\n",
    "- In this Task, we will walk through data transformations that are included in the Snowpark ML Preprocessing API.\n",
    "\n",
    "*We will illustrate a few transformation functions availabe in Snowpark ML, the rest can be found in the [documentation](https://docs.snowflake.com/LIMITEDACCESS/snowflake-ml-preprocessing).*"
   ]
  },
  {
   "cell_type": "markdown",
   "metadata": {},
   "source": [
    "#### _a- Data Loading_\n",
    "\n"
   ]
  },
  {
   "cell_type": "code",
   "execution_count": 15,
   "metadata": {},
   "outputs": [
    {
     "data": {
      "text/plain": [
       "'\"DIAMONDS\".\"PUBLIC\".diamonds'"
      ]
     },
     "execution_count": 15,
     "metadata": {},
     "output_type": "execute_result"
    }
   ],
   "source": [
    "# Specify the table name where we stored the diamonds dataset\n",
    "# ** ONLY Change this only if you named your table something else in the data ingest notebook **\n",
    "DIAMONDS_TABLE = 'diamonds'\n",
    "input_tbl = f\"{session.get_current_database()}.{session.get_current_schema()}.{DIAMONDS_TABLE}\"\n",
    "input_tbl"
   ]
  },
  {
   "cell_type": "code",
   "execution_count": 16,
   "metadata": {},
   "outputs": [
    {
     "name": "stdout",
     "output_type": "stream",
     "text": [
      "----------------------------------------------------------------------------------------------------\n",
      "|\"CARAT\"  |\"COLOR\"  |\"CLARITY\"  |\"TABLE_PCT\"  |\"PRICE\"  |\"X\"   |\"Y\"   |\"Z\"   |\"CUT\"      |\"DEPTH\"  |\n",
      "----------------------------------------------------------------------------------------------------\n",
      "|0.23     |E        |SI2        |55.0         |326      |3.95  |3.98  |2.43  |IDEAL      |61.5     |\n",
      "|0.21     |E        |SI1        |61.0         |326      |3.89  |3.84  |2.31  |PREMIUM    |59.8     |\n",
      "|0.23     |E        |VS1        |65.0         |327      |4.05  |4.07  |2.31  |GOOD       |56.9     |\n",
      "|0.29     |I        |VS2        |58.0         |334      |4.20  |4.23  |2.63  |PREMIUM    |62.4     |\n",
      "|0.31     |J        |SI2        |58.0         |335      |4.34  |4.35  |2.75  |GOOD       |63.3     |\n",
      "|0.24     |J        |VVS2       |57.0         |336      |3.94  |3.96  |2.48  |VERY_GOOD  |62.8     |\n",
      "|0.24     |I        |VVS1       |57.0         |336      |3.95  |3.98  |2.47  |VERY_GOOD  |62.3     |\n",
      "|0.26     |H        |SI1        |55.0         |337      |4.07  |4.11  |2.53  |VERY_GOOD  |61.9     |\n",
      "|0.22     |E        |VS2        |61.0         |337      |3.87  |3.78  |2.49  |FAIR       |65.1     |\n",
      "|0.23     |H        |VS1        |61.0         |338      |4.00  |4.05  |2.39  |VERY_GOOD  |59.4     |\n",
      "----------------------------------------------------------------------------------------------------\n",
      "\n",
      "------------------------------------------------------------------------------------------------------------------------------------------------------------------------------------------------\n",
      "|\"SUMMARY\"  |\"CARAT\"             |\"COLOR\"  |\"CLARITY\"  |\"TABLE_PCT\"         |\"PRICE\"             |\"X\"                |\"Y\"                |\"Z\"                 |\"CUT\"      |\"DEPTH\"             |\n",
      "------------------------------------------------------------------------------------------------------------------------------------------------------------------------------------------------\n",
      "|count      |53920.0             |53920    |53920      |53920.0             |53920.0             |53920.0            |53920.0            |53920.0             |53920      |53920.0             |\n",
      "|mean       |0.79769826          |NULL     |NULL       |57.4568342          |3930.993231         |5.73162685         |5.73488705         |3.54004636          |NULL       |61.7495141          |\n",
      "|stddev     |0.4737952923995763  |NULL     |NULL       |2.2340642090145932  |3987.2804459753015  |1.119422825790148  |1.140125795077017  |0.7025303438998204  |NULL       |1.4323310755548104  |\n",
      "|min        |0.2                 |D        |I1         |43.0                |326.0               |3.73               |3.68               |1.07                |FAIR       |43.0                |\n",
      "|max        |5.01                |J        |VVS2       |95.0                |18823.0             |10.74              |58.9               |31.8                |VERY_GOOD  |79.0                |\n",
      "------------------------------------------------------------------------------------------------------------------------------------------------------------------------------------------------\n",
      "\n"
     ]
    }
   ],
   "source": [
    "# First, we read-in the data from a Snowflake table into a Snowpark DataFrame\n",
    "diamonds_df = session.table(input_tbl)\n",
    "\n",
    "# Let's visualise the Data\n",
    "diamonds_df.show()\n",
    "\n",
    "# Describe Snowpark Datafarame\n",
    "diamonds_df.describe().show()\n"
   ]
  },
  {
   "cell_type": "code",
   "execution_count": 17,
   "metadata": {},
   "outputs": [
    {
     "name": "stdout",
     "output_type": "stream",
     "text": [
      "<class 'pandas.core.frame.DataFrame'>\n",
      "RangeIndex: 53920 entries, 0 to 53919\n",
      "Data columns (total 10 columns):\n",
      " #   Column     Non-Null Count  Dtype  \n",
      "---  ------     --------------  -----  \n",
      " 0   CARAT      53920 non-null  float64\n",
      " 1   COLOR      53920 non-null  object \n",
      " 2   CLARITY    53920 non-null  object \n",
      " 3   TABLE_PCT  53920 non-null  float64\n",
      " 4   PRICE      53920 non-null  int16  \n",
      " 5   X          53920 non-null  float64\n",
      " 6   Y          53920 non-null  float64\n",
      " 7   Z          53920 non-null  float64\n",
      " 8   CUT        53920 non-null  object \n",
      " 9   DEPTH      53920 non-null  float64\n",
      "dtypes: float64(6), int16(1), object(3)\n",
      "memory usage: 3.8+ MB\n"
     ]
    }
   ],
   "source": [
    "# Convert Snowpark DF API into Pandas DF, then check for missing values and categorical variables in the dataset\n",
    "diamonds_df.to_pandas().info()"
   ]
  },
  {
   "cell_type": "markdown",
   "metadata": {},
   "source": [
    "<img src=\"https://4cs.gia.edu/wp-content/uploads/2012/05/Cut-Anatomy-of-Diamond.png\" style=\"height:200px\" />"
   ]
  },
  {
   "cell_type": "markdown",
   "metadata": {},
   "source": [
    "_**Features**_\n",
    "\n",
    "- **Price :**, in US dollars ($326--$18,823)This is the target column containing tags for the features. \n",
    "\n",
    "The 4 Cs of Diamonds:\n",
    "\n",
    "- **Carat**, ,**(0.2--5.01)**, The carat is the diamond’s physical weight measured in metric carats.  One carat equals 1/5 gram and is subdivided into 100 points. Carat weight is the most objective grade of the 4Cs. \n",
    "- _**Cut (Fair, Good, Very Good, Premium, Ideal):**_, The quality of the cut. The more precise the diamond is cut, the more captivating the diamond is to the eye thus of high grade.\n",
    "- _**Clarity (I1 (worst), SI2, SI1, VS2, VS1, VVS2, VVS1, IF (best)):**_, Diamonds can have internal characteristics known as inclusions or external characteristics known as blemishes. Diamonds without inclusions or blemishes are rare; however, most characteristics can only be seen with magnification.\n",
    "- _**Color (from J (worst) to D (best)): **_,The color of gem-quality diamonds occurs in many hues. In the range from colorless to light yellow or light brown. Colorless diamonds are the rarest. Other natural colors (blue, red, pink for example) are known as \"fancy,” and their color grading is different from white colorless diamonds.\n",
    "- Dimensions: \n",
    "  - **X: **,length in mm (0--10.74)\n",
    "  - **Y: **,width in mm (0--58.9)\n",
    "  - **Z: **,depth in mm (0--31.8)\n",
    "\n"
   ]
  },
  {
   "cell_type": "markdown",
   "metadata": {},
   "source": [
    "#### b-Transform `COLOR`, `CLARITY` and `CUT` from categorical to numerical values using `OrdinalEncoder`\n",
    "\n"
   ]
  },
  {
   "cell_type": "code",
   "execution_count": 18,
   "metadata": {},
   "outputs": [
    {
     "name": "stdout",
     "output_type": "stream",
     "text": [
      "   _COLUMN_NAME  _CATEGORY  _INDEX\n",
      "0           CUT      IDEAL       0\n",
      "1           CUT    PREMIUM       1\n",
      "2           CUT  VERY_GOOD       2\n",
      "3           CUT       GOOD       3\n",
      "4           CUT       FAIR       4\n",
      "5       CLARITY         IF       0\n",
      "6       CLARITY       VVS1       1\n",
      "7       CLARITY       VVS2       2\n",
      "8       CLARITY        VS1       3\n",
      "9       CLARITY        VS2       4\n",
      "10      CLARITY        SI1       5\n",
      "11      CLARITY        SI2       6\n",
      "12      CLARITY         I1       7\n",
      "13      CLARITY         I2       8\n",
      "14      CLARITY         I3       9\n",
      "15        COLOR          D       0\n",
      "16        COLOR          E       1\n",
      "17        COLOR          F       2\n",
      "18        COLOR          G       3\n",
      "19        COLOR          H       4\n",
      "20        COLOR          I       5\n",
      "21        COLOR          J       6\n"
     ]
    }
   ],
   "source": [
    "import snowflake.ml.modeling.preprocessing as snowml\n",
    "\n",
    "# Encode CUT, CLARITY, and COLOR to preserve ordinal importance\n",
    "categories = {\n",
    "    \"CUT\": np.array([\"IDEAL\", \"PREMIUM\", \"VERY_GOOD\", \"GOOD\", \"FAIR\"]),\n",
    "    \"CLARITY\": np.array([\"IF\", \"VVS1\", \"VVS2\", \"VS1\", \"VS2\", \"SI1\", \"SI2\", \"I1\", \"I2\", \"I3\"]),\n",
    "    \"COLOR\": np.array(['D', 'E', 'F', 'G', 'H', 'I', 'J']),\n",
    "}\n",
    "snowml_oe = snowml.OrdinalEncoder(input_cols=[\"CUT\", \"CLARITY\", \"COLOR\"], \n",
    "                                    output_cols=[\"CUT_OE\", \"CLARITY_OE\",\"COLOR_OE\"], \n",
    "                                    categories=categories\n",
    "                                )\n",
    "\n",
    "ord_encoded_diamonds_df = snowml_oe.fit(diamonds_df).transform(diamonds_df)\n",
    "\n",
    "# Show the encoding\n",
    "print(snowml_oe._state_pandas)"
   ]
  },
  {
   "cell_type": "code",
   "execution_count": 19,
   "metadata": {},
   "outputs": [
    {
     "name": "stdout",
     "output_type": "stream",
     "text": [
      "-------------------------------------------------------------------------------------------------------------------------------------------\n",
      "|\"CUT_OE\"  |\"CLARITY_OE\"  |\"COLOR_OE\"  |\"CARAT\"  |\"COLOR\"  |\"CLARITY\"  |\"TABLE_PCT\"  |\"PRICE\"  |\"X\"   |\"Y\"   |\"Z\"   |\"CUT\"      |\"DEPTH\"  |\n",
      "-------------------------------------------------------------------------------------------------------------------------------------------\n",
      "|0.0       |6.0           |1.0         |0.23     |E        |SI2        |55.0         |326      |3.95  |3.98  |2.43  |IDEAL      |61.5     |\n",
      "|1.0       |5.0           |1.0         |0.21     |E        |SI1        |61.0         |326      |3.89  |3.84  |2.31  |PREMIUM    |59.8     |\n",
      "|3.0       |3.0           |1.0         |0.23     |E        |VS1        |65.0         |327      |4.05  |4.07  |2.31  |GOOD       |56.9     |\n",
      "|1.0       |4.0           |5.0         |0.29     |I        |VS2        |58.0         |334      |4.20  |4.23  |2.63  |PREMIUM    |62.4     |\n",
      "|3.0       |6.0           |6.0         |0.31     |J        |SI2        |58.0         |335      |4.34  |4.35  |2.75  |GOOD       |63.3     |\n",
      "|2.0       |2.0           |6.0         |0.24     |J        |VVS2       |57.0         |336      |3.94  |3.96  |2.48  |VERY_GOOD  |62.8     |\n",
      "|2.0       |1.0           |5.0         |0.24     |I        |VVS1       |57.0         |336      |3.95  |3.98  |2.47  |VERY_GOOD  |62.3     |\n",
      "|2.0       |5.0           |4.0         |0.26     |H        |SI1        |55.0         |337      |4.07  |4.11  |2.53  |VERY_GOOD  |61.9     |\n",
      "|4.0       |4.0           |1.0         |0.22     |E        |VS2        |61.0         |337      |3.87  |3.78  |2.49  |FAIR       |65.1     |\n",
      "|2.0       |3.0           |4.0         |0.23     |H        |VS1        |61.0         |338      |4.00  |4.05  |2.39  |VERY_GOOD  |59.4     |\n",
      "-------------------------------------------------------------------------------------------------------------------------------------------\n",
      "\n"
     ]
    }
   ],
   "source": [
    "#show the results of the OrdinalEncoder transformer\n",
    "ord_encoded_diamonds_df.show()"
   ]
  },
  {
   "cell_type": "markdown",
   "metadata": {},
   "source": [
    "# PRACTICE TASK : Normalise Numerical Column `CARAT` using `MinMaxScaler`"
   ]
  },
  {
   "cell_type": "markdown",
   "metadata": {},
   "source": [
    "SNOWPARK ML Modeling preprocessing [Documentation](https://docs.snowflake.com/developer-guide/snowpark-ml/snowpark-ml-modeling)\n",
    "\n"
   ]
  },
  {
   "cell_type": "code",
   "execution_count": 20,
   "metadata": {},
   "outputs": [],
   "source": [
    "from snowflake.ml.modeling.preprocessing import MinMaxScaler\n",
    "# hint : to get help run: \n",
    "# help(MinMaxScaler)"
   ]
  },
  {
   "cell_type": "code",
   "execution_count": 21,
   "metadata": {},
   "outputs": [
    {
     "name": "stdout",
     "output_type": "stream",
     "text": [
      "----------------------------------------------------------------------------------------------------------------------------------------------------------------------------------------------------------------------\n",
      "|\"SUMMARY\"  |\"CARAT_NORM\"         |\"CARAT\"             |\"COLOR\"  |\"CLARITY\"  |\"TABLE_PCT\"         |\"PRICE\"             |\"X\"                |\"Y\"                |\"Z\"                 |\"CUT\"      |\"DEPTH\"             |\n",
      "----------------------------------------------------------------------------------------------------------------------------------------------------------------------------------------------------------------------\n",
      "|count      |53920.0              |53920.0             |53920    |53920      |53920.0             |53920.0             |53920.0            |53920.0            |53920.0             |53920      |53920.0             |\n",
      "|mean       |0.1242615918246482   |0.79769826          |NULL     |NULL       |57.4568342          |3930.993231         |5.73162685         |5.73488705         |3.54004636          |NULL       |61.7495141          |\n",
      "|stddev     |0.09850213979015308  |0.4737952923995763  |NULL     |NULL       |2.2340642090145932  |3987.2804459753015  |1.119422825790148  |1.140125795077017  |0.7025303438998204  |NULL       |1.4323310755548104  |\n",
      "|min        |2e-17                |0.2                 |D        |I1         |43.0                |326.0               |3.73               |3.68               |1.07                |FAIR       |43.0                |\n",
      "|max        |1.0                  |5.01                |J        |VVS2       |95.0                |18823.0             |10.74              |58.9               |31.8                |VERY_GOOD  |79.0                |\n",
      "----------------------------------------------------------------------------------------------------------------------------------------------------------------------------------------------------------------------\n",
      "\n"
     ]
    }
   ],
   "source": [
    "#MinMaxScaler scales the data to a fixed range, typically between 0 and 1\n",
    "\n",
    "# Normalize the CARAT column\n",
    "snowml_mms = MinMaxScaler(input_cols='CARAT', output_cols='CARAT_NORM')\n",
    "\n",
    "# Call : \n",
    "# a-fit(X[, y]) Compute the minimum and maximum to be used for later scaling.\n",
    "# b-transform(X) Scale features of X according to feature_range.\n",
    "\n",
    "normalized_diamonds_df = snowml_mms.fit(diamonds_df).transform(diamonds_df)\n",
    "\n",
    "# Check Results : Call .Describe() then .Show() Results\n",
    "normalized_diamonds_df.describe().show()"
   ]
  },
  {
   "cell_type": "markdown",
   "metadata": {},
   "source": [
    "# TASK 4 : Build Preprocessing Pipeline\n",
    "- In this Task, we will build a preprocessing pipeline to be used for both the ML training & inference steps to have standarized feature transformations."
   ]
  },
  {
   "cell_type": "markdown",
   "metadata": {},
   "source": [
    "#### _a- Categorise all the features for processing_\n",
    "\n"
   ]
  },
  {
   "cell_type": "code",
   "execution_count": 22,
   "metadata": {},
   "outputs": [],
   "source": [
    "# Categorize all the features for processing\n",
    "CATEGORICAL_COLUMNS = [\"CUT\", \"COLOR\", \"CLARITY\"]\n",
    "CATEGORICAL_COLUMNS_OE = [\"CUT_OE\", \"COLOR_OE\", \"CLARITY_OE\"] # To name the ordinal encoded columns\n",
    "\n",
    "categories = {\n",
    "    \"CUT\": np.array([\"IDEAL\", \"PREMIUM\", \"VERY_GOOD\", \"GOOD\", \"FAIR\"]),\n",
    "    \"CLARITY\": np.array([\"IF\", \"VVS1\", \"VVS2\", \"VS1\", \"VS2\", \"SI1\", \"SI2\", \"I1\", \"I2\", \"I3\"]),\n",
    "    \"COLOR\": np.array(['D', 'E', 'F', 'G', 'H', 'I', 'J']),\n",
    "}"
   ]
  },
  {
   "cell_type": "markdown",
   "metadata": {},
   "source": [
    "#### _b- Build the pipeline_\n",
    "\n"
   ]
  },
  {
   "cell_type": "code",
   "execution_count": 23,
   "metadata": {},
   "outputs": [
    {
     "data": {
      "text/plain": [
       "['C:\\\\Users\\\\James\\\\GitRepos\\\\SnowflakePractice_Diamonds\\\\preprocessing_pipeline.joblib']"
      ]
     },
     "execution_count": 23,
     "metadata": {},
     "output_type": "execute_result"
    }
   ],
   "source": [
    "# Build the pipeline\n",
    "preprocessing_pipeline = Pipeline(\n",
    "    steps=[\n",
    "            (\n",
    "                \"OE\",\n",
    "                snowml.OrdinalEncoder(\n",
    "                    input_cols=CATEGORICAL_COLUMNS,\n",
    "                    output_cols=CATEGORICAL_COLUMNS_OE,\n",
    "                    categories=categories,\n",
    "                )\n",
    "            )\n",
    "    ]\n",
    ")\n",
    "\n",
    "PIPELINE_FILE = r'C:\\Users\\James\\GitRepos\\SnowflakePractice_Diamonds\\preprocessing_pipeline.joblib'\n",
    "\n",
    "# Lets create joblib file of the pipeline and save it locally\n",
    "joblib.dump(preprocessing_pipeline, PIPELINE_FILE)"
   ]
  },
  {
   "cell_type": "markdown",
   "metadata": {},
   "source": [
    "#### _c- Save the pipleine into Snowflake stage as a joblib file_\n",
    "\n"
   ]
  },
  {
   "cell_type": "code",
   "execution_count": 24,
   "metadata": {},
   "outputs": [
    {
     "data": {
      "text/plain": [
       "[PutResult(source='preprocessing_pipeline.joblib', target='preprocessing_pipeline.joblib.gz', source_size=1732, target_size=976, source_compression='NONE', target_compression='GZIP', status='UPLOADED', message='')]"
      ]
     },
     "execution_count": 24,
     "metadata": {},
     "output_type": "execute_result"
    }
   ],
   "source": [
    "# You can also save the pipeline joblibfile file into a Snowflake Internal Stage\n",
    "\n",
    "\n",
    "session.file.put(PIPELINE_FILE, \"ML_FILES\", overwrite=True)"
   ]
  },
  {
   "cell_type": "markdown",
   "metadata": {},
   "source": [
    "# TASK 5 : Build an `XGBoost` Regression Model\n",
    "- In this Task, we will illustrate how to train an XGBoost model with the diamonds dataset using the Snowpark ML Model API. \n",
    "\n",
    "The Snowpark ML Model API currently supports sklearn, xgboost, and lightgbm models, for more details check out Snowflake Documentation : https://docs.snowflake.com/en/developer-guide/snowpark-ml/snowpark-ml-modeling "
   ]
  },
  {
   "cell_type": "markdown",
   "metadata": {},
   "source": [
    "#### _a- Import Libraries_\n",
    "\n"
   ]
  },
  {
   "cell_type": "code",
   "execution_count": 25,
   "metadata": {},
   "outputs": [],
   "source": [
    "# Snowpark ML\n",
    "from snowflake.ml.modeling.xgboost import XGBRegressor\n",
    "# For All Snowpark ML Modeling Classes visit https://docs.snowflake.com/en/developer-guide/snowpark-ml/snowpark-ml-modeling\n",
    "\n",
    "# joblib\n",
    "import joblib"
   ]
  },
  {
   "cell_type": "markdown",
   "metadata": {},
   "source": [
    "#### _b- Load the data & preprocessing pipeline_\n",
    "\n"
   ]
  },
  {
   "cell_type": "code",
   "execution_count": 26,
   "metadata": {},
   "outputs": [
    {
     "name": "stdout",
     "output_type": "stream",
     "text": [
      "----------------------------------------------------------------------------------------------------\n",
      "|\"CARAT\"  |\"COLOR\"  |\"CLARITY\"  |\"TABLE_PCT\"  |\"PRICE\"  |\"X\"   |\"Y\"   |\"Z\"   |\"CUT\"      |\"DEPTH\"  |\n",
      "----------------------------------------------------------------------------------------------------\n",
      "|0.23     |E        |SI2        |55.0         |326      |3.95  |3.98  |2.43  |IDEAL      |61.5     |\n",
      "|0.21     |E        |SI1        |61.0         |326      |3.89  |3.84  |2.31  |PREMIUM    |59.8     |\n",
      "|0.23     |E        |VS1        |65.0         |327      |4.05  |4.07  |2.31  |GOOD       |56.9     |\n",
      "|0.29     |I        |VS2        |58.0         |334      |4.20  |4.23  |2.63  |PREMIUM    |62.4     |\n",
      "|0.31     |J        |SI2        |58.0         |335      |4.34  |4.35  |2.75  |GOOD       |63.3     |\n",
      "|0.24     |J        |VVS2       |57.0         |336      |3.94  |3.96  |2.48  |VERY_GOOD  |62.8     |\n",
      "|0.24     |I        |VVS1       |57.0         |336      |3.95  |3.98  |2.47  |VERY_GOOD  |62.3     |\n",
      "|0.26     |H        |SI1        |55.0         |337      |4.07  |4.11  |2.53  |VERY_GOOD  |61.9     |\n",
      "|0.22     |E        |VS2        |61.0         |337      |3.87  |3.78  |2.49  |FAIR       |65.1     |\n",
      "|0.23     |H        |VS1        |61.0         |338      |4.00  |4.05  |2.39  |VERY_GOOD  |59.4     |\n",
      "----------------------------------------------------------------------------------------------------\n",
      "\n"
     ]
    }
   ],
   "source": [
    "# Load Diamonds Table from Snowflake\n",
    "#diamonds_df = session.table(input_tbl)\n",
    "diamonds_df.show()"
   ]
  },
  {
   "cell_type": "code",
   "execution_count": 27,
   "metadata": {},
   "outputs": [
    {
     "data": {
      "text/html": [
       "<style>#sk-container-id-1 {\n",
       "  /* Definition of color scheme common for light and dark mode */\n",
       "  --sklearn-color-text: black;\n",
       "  --sklearn-color-line: gray;\n",
       "  /* Definition of color scheme for unfitted estimators */\n",
       "  --sklearn-color-unfitted-level-0: #fff5e6;\n",
       "  --sklearn-color-unfitted-level-1: #f6e4d2;\n",
       "  --sklearn-color-unfitted-level-2: #ffe0b3;\n",
       "  --sklearn-color-unfitted-level-3: chocolate;\n",
       "  /* Definition of color scheme for fitted estimators */\n",
       "  --sklearn-color-fitted-level-0: #f0f8ff;\n",
       "  --sklearn-color-fitted-level-1: #d4ebff;\n",
       "  --sklearn-color-fitted-level-2: #b3dbfd;\n",
       "  --sklearn-color-fitted-level-3: cornflowerblue;\n",
       "\n",
       "  /* Specific color for light theme */\n",
       "  --sklearn-color-text-on-default-background: var(--sg-text-color, var(--theme-code-foreground, var(--jp-content-font-color1, black)));\n",
       "  --sklearn-color-background: var(--sg-background-color, var(--theme-background, var(--jp-layout-color0, white)));\n",
       "  --sklearn-color-border-box: var(--sg-text-color, var(--theme-code-foreground, var(--jp-content-font-color1, black)));\n",
       "  --sklearn-color-icon: #696969;\n",
       "\n",
       "  @media (prefers-color-scheme: dark) {\n",
       "    /* Redefinition of color scheme for dark theme */\n",
       "    --sklearn-color-text-on-default-background: var(--sg-text-color, var(--theme-code-foreground, var(--jp-content-font-color1, white)));\n",
       "    --sklearn-color-background: var(--sg-background-color, var(--theme-background, var(--jp-layout-color0, #111)));\n",
       "    --sklearn-color-border-box: var(--sg-text-color, var(--theme-code-foreground, var(--jp-content-font-color1, white)));\n",
       "    --sklearn-color-icon: #878787;\n",
       "  }\n",
       "}\n",
       "\n",
       "#sk-container-id-1 {\n",
       "  color: var(--sklearn-color-text);\n",
       "}\n",
       "\n",
       "#sk-container-id-1 pre {\n",
       "  padding: 0;\n",
       "}\n",
       "\n",
       "#sk-container-id-1 input.sk-hidden--visually {\n",
       "  border: 0;\n",
       "  clip: rect(1px 1px 1px 1px);\n",
       "  clip: rect(1px, 1px, 1px, 1px);\n",
       "  height: 1px;\n",
       "  margin: -1px;\n",
       "  overflow: hidden;\n",
       "  padding: 0;\n",
       "  position: absolute;\n",
       "  width: 1px;\n",
       "}\n",
       "\n",
       "#sk-container-id-1 div.sk-dashed-wrapped {\n",
       "  border: 1px dashed var(--sklearn-color-line);\n",
       "  margin: 0 0.4em 0.5em 0.4em;\n",
       "  box-sizing: border-box;\n",
       "  padding-bottom: 0.4em;\n",
       "  background-color: var(--sklearn-color-background);\n",
       "}\n",
       "\n",
       "#sk-container-id-1 div.sk-container {\n",
       "  /* jupyter's `normalize.less` sets `[hidden] { display: none; }`\n",
       "     but bootstrap.min.css set `[hidden] { display: none !important; }`\n",
       "     so we also need the `!important` here to be able to override the\n",
       "     default hidden behavior on the sphinx rendered scikit-learn.org.\n",
       "     See: https://github.com/scikit-learn/scikit-learn/issues/21755 */\n",
       "  display: inline-block !important;\n",
       "  position: relative;\n",
       "}\n",
       "\n",
       "#sk-container-id-1 div.sk-text-repr-fallback {\n",
       "  display: none;\n",
       "}\n",
       "\n",
       "div.sk-parallel-item,\n",
       "div.sk-serial,\n",
       "div.sk-item {\n",
       "  /* draw centered vertical line to link estimators */\n",
       "  background-image: linear-gradient(var(--sklearn-color-text-on-default-background), var(--sklearn-color-text-on-default-background));\n",
       "  background-size: 2px 100%;\n",
       "  background-repeat: no-repeat;\n",
       "  background-position: center center;\n",
       "}\n",
       "\n",
       "/* Parallel-specific style estimator block */\n",
       "\n",
       "#sk-container-id-1 div.sk-parallel-item::after {\n",
       "  content: \"\";\n",
       "  width: 100%;\n",
       "  border-bottom: 2px solid var(--sklearn-color-text-on-default-background);\n",
       "  flex-grow: 1;\n",
       "}\n",
       "\n",
       "#sk-container-id-1 div.sk-parallel {\n",
       "  display: flex;\n",
       "  align-items: stretch;\n",
       "  justify-content: center;\n",
       "  background-color: var(--sklearn-color-background);\n",
       "  position: relative;\n",
       "}\n",
       "\n",
       "#sk-container-id-1 div.sk-parallel-item {\n",
       "  display: flex;\n",
       "  flex-direction: column;\n",
       "}\n",
       "\n",
       "#sk-container-id-1 div.sk-parallel-item:first-child::after {\n",
       "  align-self: flex-end;\n",
       "  width: 50%;\n",
       "}\n",
       "\n",
       "#sk-container-id-1 div.sk-parallel-item:last-child::after {\n",
       "  align-self: flex-start;\n",
       "  width: 50%;\n",
       "}\n",
       "\n",
       "#sk-container-id-1 div.sk-parallel-item:only-child::after {\n",
       "  width: 0;\n",
       "}\n",
       "\n",
       "/* Serial-specific style estimator block */\n",
       "\n",
       "#sk-container-id-1 div.sk-serial {\n",
       "  display: flex;\n",
       "  flex-direction: column;\n",
       "  align-items: center;\n",
       "  background-color: var(--sklearn-color-background);\n",
       "  padding-right: 1em;\n",
       "  padding-left: 1em;\n",
       "}\n",
       "\n",
       "\n",
       "/* Toggleable style: style used for estimator/Pipeline/ColumnTransformer box that is\n",
       "clickable and can be expanded/collapsed.\n",
       "- Pipeline and ColumnTransformer use this feature and define the default style\n",
       "- Estimators will overwrite some part of the style using the `sk-estimator` class\n",
       "*/\n",
       "\n",
       "/* Pipeline and ColumnTransformer style (default) */\n",
       "\n",
       "#sk-container-id-1 div.sk-toggleable {\n",
       "  /* Default theme specific background. It is overwritten whether we have a\n",
       "  specific estimator or a Pipeline/ColumnTransformer */\n",
       "  background-color: var(--sklearn-color-background);\n",
       "}\n",
       "\n",
       "/* Toggleable label */\n",
       "#sk-container-id-1 label.sk-toggleable__label {\n",
       "  cursor: pointer;\n",
       "  display: block;\n",
       "  width: 100%;\n",
       "  margin-bottom: 0;\n",
       "  padding: 0.5em;\n",
       "  box-sizing: border-box;\n",
       "  text-align: center;\n",
       "}\n",
       "\n",
       "#sk-container-id-1 label.sk-toggleable__label-arrow:before {\n",
       "  /* Arrow on the left of the label */\n",
       "  content: \"▸\";\n",
       "  float: left;\n",
       "  margin-right: 0.25em;\n",
       "  color: var(--sklearn-color-icon);\n",
       "}\n",
       "\n",
       "#sk-container-id-1 label.sk-toggleable__label-arrow:hover:before {\n",
       "  color: var(--sklearn-color-text);\n",
       "}\n",
       "\n",
       "/* Toggleable content - dropdown */\n",
       "\n",
       "#sk-container-id-1 div.sk-toggleable__content {\n",
       "  max-height: 0;\n",
       "  max-width: 0;\n",
       "  overflow: hidden;\n",
       "  text-align: left;\n",
       "  /* unfitted */\n",
       "  background-color: var(--sklearn-color-unfitted-level-0);\n",
       "}\n",
       "\n",
       "#sk-container-id-1 div.sk-toggleable__content.fitted {\n",
       "  /* fitted */\n",
       "  background-color: var(--sklearn-color-fitted-level-0);\n",
       "}\n",
       "\n",
       "#sk-container-id-1 div.sk-toggleable__content pre {\n",
       "  margin: 0.2em;\n",
       "  border-radius: 0.25em;\n",
       "  color: var(--sklearn-color-text);\n",
       "  /* unfitted */\n",
       "  background-color: var(--sklearn-color-unfitted-level-0);\n",
       "}\n",
       "\n",
       "#sk-container-id-1 div.sk-toggleable__content.fitted pre {\n",
       "  /* unfitted */\n",
       "  background-color: var(--sklearn-color-fitted-level-0);\n",
       "}\n",
       "\n",
       "#sk-container-id-1 input.sk-toggleable__control:checked~div.sk-toggleable__content {\n",
       "  /* Expand drop-down */\n",
       "  max-height: 200px;\n",
       "  max-width: 100%;\n",
       "  overflow: auto;\n",
       "}\n",
       "\n",
       "#sk-container-id-1 input.sk-toggleable__control:checked~label.sk-toggleable__label-arrow:before {\n",
       "  content: \"▾\";\n",
       "}\n",
       "\n",
       "/* Pipeline/ColumnTransformer-specific style */\n",
       "\n",
       "#sk-container-id-1 div.sk-label input.sk-toggleable__control:checked~label.sk-toggleable__label {\n",
       "  color: var(--sklearn-color-text);\n",
       "  background-color: var(--sklearn-color-unfitted-level-2);\n",
       "}\n",
       "\n",
       "#sk-container-id-1 div.sk-label.fitted input.sk-toggleable__control:checked~label.sk-toggleable__label {\n",
       "  background-color: var(--sklearn-color-fitted-level-2);\n",
       "}\n",
       "\n",
       "/* Estimator-specific style */\n",
       "\n",
       "/* Colorize estimator box */\n",
       "#sk-container-id-1 div.sk-estimator input.sk-toggleable__control:checked~label.sk-toggleable__label {\n",
       "  /* unfitted */\n",
       "  background-color: var(--sklearn-color-unfitted-level-2);\n",
       "}\n",
       "\n",
       "#sk-container-id-1 div.sk-estimator.fitted input.sk-toggleable__control:checked~label.sk-toggleable__label {\n",
       "  /* fitted */\n",
       "  background-color: var(--sklearn-color-fitted-level-2);\n",
       "}\n",
       "\n",
       "#sk-container-id-1 div.sk-label label.sk-toggleable__label,\n",
       "#sk-container-id-1 div.sk-label label {\n",
       "  /* The background is the default theme color */\n",
       "  color: var(--sklearn-color-text-on-default-background);\n",
       "}\n",
       "\n",
       "/* On hover, darken the color of the background */\n",
       "#sk-container-id-1 div.sk-label:hover label.sk-toggleable__label {\n",
       "  color: var(--sklearn-color-text);\n",
       "  background-color: var(--sklearn-color-unfitted-level-2);\n",
       "}\n",
       "\n",
       "/* Label box, darken color on hover, fitted */\n",
       "#sk-container-id-1 div.sk-label.fitted:hover label.sk-toggleable__label.fitted {\n",
       "  color: var(--sklearn-color-text);\n",
       "  background-color: var(--sklearn-color-fitted-level-2);\n",
       "}\n",
       "\n",
       "/* Estimator label */\n",
       "\n",
       "#sk-container-id-1 div.sk-label label {\n",
       "  font-family: monospace;\n",
       "  font-weight: bold;\n",
       "  display: inline-block;\n",
       "  line-height: 1.2em;\n",
       "}\n",
       "\n",
       "#sk-container-id-1 div.sk-label-container {\n",
       "  text-align: center;\n",
       "}\n",
       "\n",
       "/* Estimator-specific */\n",
       "#sk-container-id-1 div.sk-estimator {\n",
       "  font-family: monospace;\n",
       "  border: 1px dotted var(--sklearn-color-border-box);\n",
       "  border-radius: 0.25em;\n",
       "  box-sizing: border-box;\n",
       "  margin-bottom: 0.5em;\n",
       "  /* unfitted */\n",
       "  background-color: var(--sklearn-color-unfitted-level-0);\n",
       "}\n",
       "\n",
       "#sk-container-id-1 div.sk-estimator.fitted {\n",
       "  /* fitted */\n",
       "  background-color: var(--sklearn-color-fitted-level-0);\n",
       "}\n",
       "\n",
       "/* on hover */\n",
       "#sk-container-id-1 div.sk-estimator:hover {\n",
       "  /* unfitted */\n",
       "  background-color: var(--sklearn-color-unfitted-level-2);\n",
       "}\n",
       "\n",
       "#sk-container-id-1 div.sk-estimator.fitted:hover {\n",
       "  /* fitted */\n",
       "  background-color: var(--sklearn-color-fitted-level-2);\n",
       "}\n",
       "\n",
       "/* Specification for estimator info (e.g. \"i\" and \"?\") */\n",
       "\n",
       "/* Common style for \"i\" and \"?\" */\n",
       "\n",
       ".sk-estimator-doc-link,\n",
       "a:link.sk-estimator-doc-link,\n",
       "a:visited.sk-estimator-doc-link {\n",
       "  float: right;\n",
       "  font-size: smaller;\n",
       "  line-height: 1em;\n",
       "  font-family: monospace;\n",
       "  background-color: var(--sklearn-color-background);\n",
       "  border-radius: 1em;\n",
       "  height: 1em;\n",
       "  width: 1em;\n",
       "  text-decoration: none !important;\n",
       "  margin-left: 1ex;\n",
       "  /* unfitted */\n",
       "  border: var(--sklearn-color-unfitted-level-1) 1pt solid;\n",
       "  color: var(--sklearn-color-unfitted-level-1);\n",
       "}\n",
       "\n",
       ".sk-estimator-doc-link.fitted,\n",
       "a:link.sk-estimator-doc-link.fitted,\n",
       "a:visited.sk-estimator-doc-link.fitted {\n",
       "  /* fitted */\n",
       "  border: var(--sklearn-color-fitted-level-1) 1pt solid;\n",
       "  color: var(--sklearn-color-fitted-level-1);\n",
       "}\n",
       "\n",
       "/* On hover */\n",
       "div.sk-estimator:hover .sk-estimator-doc-link:hover,\n",
       ".sk-estimator-doc-link:hover,\n",
       "div.sk-label-container:hover .sk-estimator-doc-link:hover,\n",
       ".sk-estimator-doc-link:hover {\n",
       "  /* unfitted */\n",
       "  background-color: var(--sklearn-color-unfitted-level-3);\n",
       "  color: var(--sklearn-color-background);\n",
       "  text-decoration: none;\n",
       "}\n",
       "\n",
       "div.sk-estimator.fitted:hover .sk-estimator-doc-link.fitted:hover,\n",
       ".sk-estimator-doc-link.fitted:hover,\n",
       "div.sk-label-container:hover .sk-estimator-doc-link.fitted:hover,\n",
       ".sk-estimator-doc-link.fitted:hover {\n",
       "  /* fitted */\n",
       "  background-color: var(--sklearn-color-fitted-level-3);\n",
       "  color: var(--sklearn-color-background);\n",
       "  text-decoration: none;\n",
       "}\n",
       "\n",
       "/* Span, style for the box shown on hovering the info icon */\n",
       ".sk-estimator-doc-link span {\n",
       "  display: none;\n",
       "  z-index: 9999;\n",
       "  position: relative;\n",
       "  font-weight: normal;\n",
       "  right: .2ex;\n",
       "  padding: .5ex;\n",
       "  margin: .5ex;\n",
       "  width: min-content;\n",
       "  min-width: 20ex;\n",
       "  max-width: 50ex;\n",
       "  color: var(--sklearn-color-text);\n",
       "  box-shadow: 2pt 2pt 4pt #999;\n",
       "  /* unfitted */\n",
       "  background: var(--sklearn-color-unfitted-level-0);\n",
       "  border: .5pt solid var(--sklearn-color-unfitted-level-3);\n",
       "}\n",
       "\n",
       ".sk-estimator-doc-link.fitted span {\n",
       "  /* fitted */\n",
       "  background: var(--sklearn-color-fitted-level-0);\n",
       "  border: var(--sklearn-color-fitted-level-3);\n",
       "}\n",
       "\n",
       ".sk-estimator-doc-link:hover span {\n",
       "  display: block;\n",
       "}\n",
       "\n",
       "/* \"?\"-specific style due to the `<a>` HTML tag */\n",
       "\n",
       "#sk-container-id-1 a.estimator_doc_link {\n",
       "  float: right;\n",
       "  font-size: 1rem;\n",
       "  line-height: 1em;\n",
       "  font-family: monospace;\n",
       "  background-color: var(--sklearn-color-background);\n",
       "  border-radius: 1rem;\n",
       "  height: 1rem;\n",
       "  width: 1rem;\n",
       "  text-decoration: none;\n",
       "  /* unfitted */\n",
       "  color: var(--sklearn-color-unfitted-level-1);\n",
       "  border: var(--sklearn-color-unfitted-level-1) 1pt solid;\n",
       "}\n",
       "\n",
       "#sk-container-id-1 a.estimator_doc_link.fitted {\n",
       "  /* fitted */\n",
       "  border: var(--sklearn-color-fitted-level-1) 1pt solid;\n",
       "  color: var(--sklearn-color-fitted-level-1);\n",
       "}\n",
       "\n",
       "/* On hover */\n",
       "#sk-container-id-1 a.estimator_doc_link:hover {\n",
       "  /* unfitted */\n",
       "  background-color: var(--sklearn-color-unfitted-level-3);\n",
       "  color: var(--sklearn-color-background);\n",
       "  text-decoration: none;\n",
       "}\n",
       "\n",
       "#sk-container-id-1 a.estimator_doc_link.fitted:hover {\n",
       "  /* fitted */\n",
       "  background-color: var(--sklearn-color-fitted-level-3);\n",
       "}\n",
       "</style><div id=\"sk-container-id-1\" class=\"sk-top-container\"><div class=\"sk-text-repr-fallback\"><pre>Pipeline(steps=[(&#x27;OE&#x27;,\n",
       "                 ColumnTransformer(remainder=&#x27;passthrough&#x27;,\n",
       "                                   transformers=[(&#x27;OE&#x27;,\n",
       "                                                  OrdinalEncoder(categories=[array([&#x27;IDEAL&#x27;, &#x27;PREMIUM&#x27;, &#x27;VERY_GOOD&#x27;, &#x27;GOOD&#x27;, &#x27;FAIR&#x27;], dtype=&#x27;&lt;U9&#x27;),\n",
       "                                                                             array([&#x27;D&#x27;, &#x27;E&#x27;, &#x27;F&#x27;, &#x27;G&#x27;, &#x27;H&#x27;, &#x27;I&#x27;, &#x27;J&#x27;], dtype=&#x27;&lt;U1&#x27;),\n",
       "                                                                             array([&#x27;IF&#x27;, &#x27;VVS1&#x27;, &#x27;VVS2&#x27;, &#x27;VS1&#x27;, &#x27;VS2&#x27;, &#x27;SI1&#x27;, &#x27;SI2&#x27;, &#x27;I1&#x27;, &#x27;I2&#x27;, &#x27;I3&#x27;],\n",
       "      dtype=&#x27;&lt;U4&#x27;)]),\n",
       "                                                  [&#x27;CUT&#x27;, &#x27;COLOR&#x27;,\n",
       "                                                   &#x27;CLARITY&#x27;])]))])</pre><b>In a Jupyter environment, please rerun this cell to show the HTML representation or trust the notebook. <br />On GitHub, the HTML representation is unable to render, please try loading this page with nbviewer.org.</b></div><div class=\"sk-container\" hidden><div class=\"sk-item sk-dashed-wrapped\"><div class=\"sk-label-container\"><div class=\"sk-label  sk-toggleable\"><input class=\"sk-toggleable__control sk-hidden--visually\" id=\"sk-estimator-id-1\" type=\"checkbox\" ><label for=\"sk-estimator-id-1\" class=\"sk-toggleable__label  sk-toggleable__label-arrow \">&nbsp;&nbsp;Pipeline<a class=\"sk-estimator-doc-link \" rel=\"noreferrer\" target=\"_blank\" href=\"https://scikit-learn.org/1.5/modules/generated/sklearn.pipeline.Pipeline.html\">?<span>Documentation for Pipeline</span></a><span class=\"sk-estimator-doc-link \">i<span>Not fitted</span></span></label><div class=\"sk-toggleable__content \"><pre>Pipeline(steps=[(&#x27;OE&#x27;,\n",
       "                 ColumnTransformer(remainder=&#x27;passthrough&#x27;,\n",
       "                                   transformers=[(&#x27;OE&#x27;,\n",
       "                                                  OrdinalEncoder(categories=[array([&#x27;IDEAL&#x27;, &#x27;PREMIUM&#x27;, &#x27;VERY_GOOD&#x27;, &#x27;GOOD&#x27;, &#x27;FAIR&#x27;], dtype=&#x27;&lt;U9&#x27;),\n",
       "                                                                             array([&#x27;D&#x27;, &#x27;E&#x27;, &#x27;F&#x27;, &#x27;G&#x27;, &#x27;H&#x27;, &#x27;I&#x27;, &#x27;J&#x27;], dtype=&#x27;&lt;U1&#x27;),\n",
       "                                                                             array([&#x27;IF&#x27;, &#x27;VVS1&#x27;, &#x27;VVS2&#x27;, &#x27;VS1&#x27;, &#x27;VS2&#x27;, &#x27;SI1&#x27;, &#x27;SI2&#x27;, &#x27;I1&#x27;, &#x27;I2&#x27;, &#x27;I3&#x27;],\n",
       "      dtype=&#x27;&lt;U4&#x27;)]),\n",
       "                                                  [&#x27;CUT&#x27;, &#x27;COLOR&#x27;,\n",
       "                                                   &#x27;CLARITY&#x27;])]))])</pre></div> </div></div><div class=\"sk-serial\"><div class=\"sk-item sk-dashed-wrapped\"><div class=\"sk-label-container\"><div class=\"sk-label  sk-toggleable\"><input class=\"sk-toggleable__control sk-hidden--visually\" id=\"sk-estimator-id-2\" type=\"checkbox\" ><label for=\"sk-estimator-id-2\" class=\"sk-toggleable__label  sk-toggleable__label-arrow \">&nbsp;OE: ColumnTransformer<a class=\"sk-estimator-doc-link \" rel=\"noreferrer\" target=\"_blank\" href=\"https://scikit-learn.org/1.5/modules/generated/sklearn.compose.ColumnTransformer.html\">?<span>Documentation for OE: ColumnTransformer</span></a></label><div class=\"sk-toggleable__content \"><pre>ColumnTransformer(remainder=&#x27;passthrough&#x27;,\n",
       "                  transformers=[(&#x27;OE&#x27;,\n",
       "                                 OrdinalEncoder(categories=[array([&#x27;IDEAL&#x27;, &#x27;PREMIUM&#x27;, &#x27;VERY_GOOD&#x27;, &#x27;GOOD&#x27;, &#x27;FAIR&#x27;], dtype=&#x27;&lt;U9&#x27;),\n",
       "                                                            array([&#x27;D&#x27;, &#x27;E&#x27;, &#x27;F&#x27;, &#x27;G&#x27;, &#x27;H&#x27;, &#x27;I&#x27;, &#x27;J&#x27;], dtype=&#x27;&lt;U1&#x27;),\n",
       "                                                            array([&#x27;IF&#x27;, &#x27;VVS1&#x27;, &#x27;VVS2&#x27;, &#x27;VS1&#x27;, &#x27;VS2&#x27;, &#x27;SI1&#x27;, &#x27;SI2&#x27;, &#x27;I1&#x27;, &#x27;I2&#x27;, &#x27;I3&#x27;],\n",
       "      dtype=&#x27;&lt;U4&#x27;)]),\n",
       "                                 [&#x27;CUT&#x27;, &#x27;COLOR&#x27;, &#x27;CLARITY&#x27;])])</pre></div> </div></div><div class=\"sk-parallel\"><div class=\"sk-parallel-item\"><div class=\"sk-item\"><div class=\"sk-label-container\"><div class=\"sk-label  sk-toggleable\"><input class=\"sk-toggleable__control sk-hidden--visually\" id=\"sk-estimator-id-3\" type=\"checkbox\" ><label for=\"sk-estimator-id-3\" class=\"sk-toggleable__label  sk-toggleable__label-arrow \">OE</label><div class=\"sk-toggleable__content \"><pre>[&#x27;CUT&#x27;, &#x27;COLOR&#x27;, &#x27;CLARITY&#x27;]</pre></div> </div></div><div class=\"sk-serial\"><div class=\"sk-item\"><div class=\"sk-estimator  sk-toggleable\"><input class=\"sk-toggleable__control sk-hidden--visually\" id=\"sk-estimator-id-4\" type=\"checkbox\" ><label for=\"sk-estimator-id-4\" class=\"sk-toggleable__label  sk-toggleable__label-arrow \">&nbsp;OrdinalEncoder<a class=\"sk-estimator-doc-link \" rel=\"noreferrer\" target=\"_blank\" href=\"https://scikit-learn.org/1.5/modules/generated/sklearn.preprocessing.OrdinalEncoder.html\">?<span>Documentation for OrdinalEncoder</span></a></label><div class=\"sk-toggleable__content \"><pre>OrdinalEncoder(categories=[array([&#x27;IDEAL&#x27;, &#x27;PREMIUM&#x27;, &#x27;VERY_GOOD&#x27;, &#x27;GOOD&#x27;, &#x27;FAIR&#x27;], dtype=&#x27;&lt;U9&#x27;),\n",
       "                           array([&#x27;D&#x27;, &#x27;E&#x27;, &#x27;F&#x27;, &#x27;G&#x27;, &#x27;H&#x27;, &#x27;I&#x27;, &#x27;J&#x27;], dtype=&#x27;&lt;U1&#x27;),\n",
       "                           array([&#x27;IF&#x27;, &#x27;VVS1&#x27;, &#x27;VVS2&#x27;, &#x27;VS1&#x27;, &#x27;VS2&#x27;, &#x27;SI1&#x27;, &#x27;SI2&#x27;, &#x27;I1&#x27;, &#x27;I2&#x27;, &#x27;I3&#x27;],\n",
       "      dtype=&#x27;&lt;U4&#x27;)])</pre></div> </div></div></div></div></div><div class=\"sk-parallel-item\"><div class=\"sk-item\"><div class=\"sk-label-container\"><div class=\"sk-label  sk-toggleable\"><input class=\"sk-toggleable__control sk-hidden--visually\" id=\"sk-estimator-id-5\" type=\"checkbox\" ><label for=\"sk-estimator-id-5\" class=\"sk-toggleable__label  sk-toggleable__label-arrow \">remainder</label><div class=\"sk-toggleable__content \"><pre></pre></div> </div></div><div class=\"sk-serial\"><div class=\"sk-item\"><div class=\"sk-estimator  sk-toggleable\"><input class=\"sk-toggleable__control sk-hidden--visually\" id=\"sk-estimator-id-6\" type=\"checkbox\" ><label for=\"sk-estimator-id-6\" class=\"sk-toggleable__label  sk-toggleable__label-arrow \">passthrough</label><div class=\"sk-toggleable__content \"><pre>passthrough</pre></div> </div></div></div></div></div></div></div></div></div></div></div>"
      ],
      "text/plain": [
       "Pipeline(steps=[('OE',\n",
       "                 ColumnTransformer(remainder='passthrough',\n",
       "                                   transformers=[('OE',\n",
       "                                                  OrdinalEncoder(categories=[array(['IDEAL', 'PREMIUM', 'VERY_GOOD', 'GOOD', 'FAIR'], dtype='<U9'),\n",
       "                                                                             array(['D', 'E', 'F', 'G', 'H', 'I', 'J'], dtype='<U1'),\n",
       "                                                                             array(['IF', 'VVS1', 'VVS2', 'VS1', 'VS2', 'SI1', 'SI2', 'I1', 'I2', 'I3'],\n",
       "      dtype='<U4')]),\n",
       "                                                  ['CUT', 'COLOR',\n",
       "                                                   'CLARITY'])]))])"
      ]
     },
     "execution_count": 27,
     "metadata": {},
     "output_type": "execute_result"
    }
   ],
   "source": [
    "# Load the preprocessing pipeline object\n",
    "#preprocessing_pipeline = joblib.load('preprocessing_pipeline.joblib')\n",
    "\n",
    "# Visualise the Pipeline \n",
    "preprocessing_pipeline.to_sklearn()"
   ]
  },
  {
   "cell_type": "code",
   "execution_count": 28,
   "metadata": {},
   "outputs": [],
   "source": [
    "# Categorize all the features for modeling\n",
    "CATEGORICAL_COLUMNS = [\"CUT\", \"COLOR\", \"CLARITY\"]\n",
    "CATEGORICAL_COLUMNS_OE = [\"CUT_OE\", \"COLOR_OE\", \"CLARITY_OE\"] \n",
    "NUMERICAL_COLUMNS = [\"CARAT\", \"DEPTH\", \"TABLE_PCT\", \"X\", \"Y\", \"Z\"]\n",
    "\n",
    "LABEL_COLUMNS = ['PRICE']\n",
    "OUTPUT_COLUMNS = ['PREDICTED_PRICE']"
   ]
  },
  {
   "cell_type": "markdown",
   "metadata": {},
   "source": [
    "#### _c- Build XGBoost Regression Model_\n",
    "\n"
   ]
  },
  {
   "cell_type": "code",
   "execution_count": 29,
   "metadata": {},
   "outputs": [],
   "source": [
    "# Split the data into train and test sets\n",
    "diamonds_train_df, diamonds_test_df = diamonds_df.random_split(weights=[0.9,0.1], seed=0)\n",
    "\n",
    "# Run the train and test sets through the Pipeline object we defined earlier\n",
    "train_df = preprocessing_pipeline.fit(diamonds_train_df).transform(diamonds_train_df)\n",
    "test_df = preprocessing_pipeline.fit(diamonds_test_df).transform(diamonds_test_df)"
   ]
  },
  {
   "cell_type": "code",
   "execution_count": 30,
   "metadata": {},
   "outputs": [
    {
     "name": "stderr",
     "output_type": "stream",
     "text": [
      "Package 'snowflake-telemetry-python' is not installed in the local environment. Your UDF might not work when the package is installed on the server but not on your local environment.\n"
     ]
    }
   ],
   "source": [
    "# Define the XGBRegressor\n",
    "regressor = XGBRegressor(\n",
    "    input_cols=CATEGORICAL_COLUMNS_OE+NUMERICAL_COLUMNS,\n",
    "    label_cols=LABEL_COLUMNS,\n",
    "    output_cols=OUTPUT_COLUMNS\n",
    ")\n",
    "\n",
    "# Train\n",
    "regressor.fit(train_df)\n",
    "\n",
    "# Predict\n",
    "result= regressor.predict(test_df)"
   ]
  },
  {
   "cell_type": "markdown",
   "metadata": {},
   "source": [
    "#### _d- Analyse Model Accuracy using Snowpark ML's R-2 Score._\n",
    "\n"
   ]
  },
  {
   "cell_type": "code",
   "execution_count": 31,
   "metadata": {},
   "outputs": [
    {
     "name": "stdout",
     "output_type": "stream",
     "text": [
      "--------------------------------\n",
      "|\"PRICE\"  |\"PREDICTED_PRICE\"   |\n",
      "--------------------------------\n",
      "|351      |357.13226318359375  |\n",
      "|353      |329.08197021484375  |\n",
      "|355      |356.8968505859375   |\n",
      "|357      |420.1815185546875   |\n",
      "|554      |558.5751342773438   |\n",
      "|554      |494.9957580566406   |\n",
      "|2757     |2707.064697265625   |\n",
      "|2759     |2961.092529296875   |\n",
      "|2759     |2779.14501953125    |\n",
      "|2762     |2860.9501953125     |\n",
      "--------------------------------\n",
      "\n",
      "Acccuracy: 0.9818281123315649\n"
     ]
    }
   ],
   "source": [
    "from snowflake.ml.modeling.metrics import r2_score\n",
    "\n",
    "# Show Result\n",
    "result.select(\"PRICE\", \"PREDICTED_PRICE\").show()\n",
    "\n",
    "# Model Accuracy using R-2 Score\n",
    "print('Acccuracy:', r2_score(df=result,y_true_col_name=\"PRICE\",y_pred_col_name=\"PREDICTED_PRICE\"))"
   ]
  },
  {
   "cell_type": "markdown",
   "metadata": {},
   "source": [
    "#### _e- Plot Actual Vs Predicted _\n",
    "\n"
   ]
  },
  {
   "cell_type": "code",
   "execution_count": 32,
   "metadata": {},
   "outputs": [
    {
     "data": {
      "image/png": "[encoded data removed]",
      "text/plain": [
       "<Figure size 640x480 with 1 Axes>"
      ]
     },
     "metadata": {},
     "output_type": "display_data"
    }
   ],
   "source": [
    "import seaborn as sns\n",
    "import matplotlib.pyplot as plt\n",
    "\n",
    "sns.scatterplot(data = result.to_pandas(), x=\"PRICE\", y = \"PREDICTED_PRICE\")\n",
    "plt.gca().set_aspect(1)\n"
   ]
  },
  {
   "cell_type": "markdown",
   "metadata": {},
   "source": [
    "# PRACTICE TASK : Try different Regression Model `LinearRegression`  "
   ]
  },
  {
   "cell_type": "code",
   "execution_count": 33,
   "metadata": {},
   "outputs": [],
   "source": [
    "# Import LinearRegression \n",
    "from snowflake.ml.modeling.linear_model import LinearRegression"
   ]
  },
  {
   "cell_type": "code",
   "execution_count": 34,
   "metadata": {},
   "outputs": [
    {
     "name": "stderr",
     "output_type": "stream",
     "text": [
      "Package 'snowflake-telemetry-python' is not installed in the local environment. Your UDF might not work when the package is installed on the server but not on your local environment.\n"
     ]
    }
   ],
   "source": [
    "# Define the LinearRegression\n",
    "lr = LinearRegression(\n",
    "    input_cols = CATEGORICAL_COLUMNS_OE+NUMERICAL_COLUMNS,\n",
    "    label_cols = LABEL_COLUMNS,\n",
    "    output_cols = OUTPUT_COLUMNS\n",
    ")\n",
    "\n",
    "\n",
    "# Train\n",
    "lr.fit(train_df)\n",
    "\n",
    "# Predict\n",
    "lr_result = lr.predict(test_df)"
   ]
  },
  {
   "cell_type": "markdown",
   "metadata": {},
   "source": [
    "**-->** Navigate to Snowflake Query History to check how Snowflake translates and executes your Python queries \n",
    "\n"
   ]
  },
  {
   "cell_type": "code",
   "execution_count": 35,
   "metadata": {},
   "outputs": [
    {
     "name": "stdout",
     "output_type": "stream",
     "text": [
      "---------------------------------\n",
      "|\"PRICE\"  |\"PREDICTED_PRICE\"    |\n",
      "---------------------------------\n",
      "|351      |-1962.4246206274202  |\n",
      "|353      |-1828.7377348260125  |\n",
      "|355      |-873.8059706831318   |\n",
      "|357      |86.84978741104715    |\n",
      "|554      |-1274.9767080486235  |\n",
      "|554      |-17.238202340062344  |\n",
      "|2757     |2919.2756342829625   |\n",
      "|2759     |3363.2589332800444   |\n",
      "|2759     |3494.63798281837     |\n",
      "|2762     |3410.660540832665    |\n",
      "---------------------------------\n",
      "\n"
     ]
    },
    {
     "data": {
      "text/plain": [
       "0.9110521068493247"
      ]
     },
     "execution_count": 35,
     "metadata": {},
     "output_type": "execute_result"
    }
   ],
   "source": [
    "# Show Result   \n",
    "lr_result.select(\"PRICE\", \"PREDICTED_PRICE\").show()\n",
    "\n",
    "\n",
    "# Model Accuracy using R-2 Score\n",
    "r2_score(df=lr_result, y_true_col_name=\"PRICE\", y_pred_col_name='PREDICTED_PRICE')\n"
   ]
  },
  {
   "cell_type": "code",
   "execution_count": 36,
   "metadata": {},
   "outputs": [
    {
     "data": {
      "image/png": "[encoded data removed]",
      "text/plain": [
       "<Figure size 640x480 with 1 Axes>"
      ]
     },
     "metadata": {},
     "output_type": "display_data"
    }
   ],
   "source": [
    "import seaborn as sns\n",
    "import matplotlib.pyplot as plt\n",
    "\n",
    "sns.scatterplot(data = lr_result.to_pandas(), x=\"PRICE\", y = \"PREDICTED_PRICE\")\n",
    "plt.gca().set_aspect(1)"
   ]
  },
  {
   "cell_type": "markdown",
   "metadata": {},
   "source": [
    "# TASK 6: Fine Tune Model's Hyperparameters using `GridSearchCV()`"
   ]
  },
  {
   "cell_type": "code",
   "execution_count": 37,
   "metadata": {},
   "outputs": [],
   "source": [
    "#Import Libraries\n",
    "from snowflake.ml.modeling.model_selection import GridSearchCV\n",
    "#help(GridSearchCV)"
   ]
  },
  {
   "cell_type": "markdown",
   "metadata": {},
   "source": [
    "#### _a- Use GridSearchCV to find the best fitting model_\n",
    "\n"
   ]
  },
  {
   "cell_type": "code",
   "execution_count": 38,
   "metadata": {},
   "outputs": [],
   "source": [
    "# from sklearn.metrics import get_scorer_names\n",
    "# get_scorer_names()"
   ]
  },
  {
   "cell_type": "code",
   "execution_count": 39,
   "metadata": {},
   "outputs": [
    {
     "name": "stderr",
     "output_type": "stream",
     "text": [
      "Package 'snowflake-telemetry-python' is not installed in the local environment. Your UDF might not work when the package is installed on the server but not on your local environment.\n"
     ]
    },
    {
     "data": {
      "text/plain": [
       "<snowflake.ml.modeling.model_selection.grid_search_cv.GridSearchCV at 0x1b1307bf9a0>"
      ]
     },
     "execution_count": 39,
     "metadata": {},
     "output_type": "execute_result"
    }
   ],
   "source": [
    "# Documentation : https://scikit-learn.org/stable/modules/generated/sklearn.model_selection.GridSearchCV.html\n",
    "\n",
    "grid_search = GridSearchCV(\n",
    "    estimator=regressor, # same XGBOOST model which we trained earlier\n",
    "    param_grid={\n",
    "        \"n_estimators\":[100,200,300, 400, 500], # Number of boosting rounds\n",
    "        \"learning_rate\":[0.1,0.2,0.3, 0.4, 0.5], # Step size shrinkage to prevent overfitting\n",
    "    },\n",
    "    n_jobs = -1, #Number of jobs to run in parallel. -1 means using all processors.\n",
    "    scoring=\"r2\",\n",
    "    cv=5, # 5-fold cross-validation\n",
    "    input_cols=CATEGORICAL_COLUMNS_OE+NUMERICAL_COLUMNS,\n",
    "    label_cols=LABEL_COLUMNS,\n",
    "    output_cols=OUTPUT_COLUMNS\n",
    ")\n",
    "\n",
    "# Train hypertuned model \n",
    "grid_search.fit(train_df)"
   ]
  },
  {
   "cell_type": "markdown",
   "metadata": {},
   "source": [
    "> **NOTE**>  : Process will take ~2.5min to run, in order to accelerate it, increase the size of your Snowflake virtual Warehouse.\n",
    "\n"
   ]
  },
  {
   "cell_type": "code",
   "execution_count": 40,
   "metadata": {},
   "outputs": [
    {
     "data": {
      "text/plain": [
       "{'learning_rate': 0.2, 'n_estimators': 500}"
      ]
     },
     "execution_count": 40,
     "metadata": {},
     "output_type": "execute_result"
    }
   ],
   "source": [
    "# Best Estimator (model) Hyperparameters\n",
    "grid_search.to_sklearn().best_params_"
   ]
  },
  {
   "cell_type": "markdown",
   "metadata": {},
   "source": [
    "> **NOTE**>  : Based on our Grid search results above the best estimator with the lowest R-2 Score hyper-parameters are learning_rate=0.1 and n_estimator=200.\n",
    "\n"
   ]
  },
  {
   "cell_type": "markdown",
   "metadata": {},
   "source": [
    "#### b- Calculate R-2 Score based on best estimator \n",
    "\n"
   ]
  },
  {
   "cell_type": "code",
   "execution_count": 41,
   "metadata": {},
   "outputs": [
    {
     "name": "stdout",
     "output_type": "stream",
     "text": [
      "Acccuracy of Hypertuned XGBOOST Model: 0.981543931521815\n",
      "Acccuracy of Initial XGBOOST Model: 0.9818281123315649\n"
     ]
    }
   ],
   "source": [
    "# Predict Price using Test set using best estimator (model)\n",
    "result_optimal_model = grid_search.predict(test_df)\n",
    "\n",
    "# Analyze results using R-2 Score \n",
    "print('Acccuracy of Hypertuned XGBOOST Model:', r2_score(df=result_optimal_model,y_true_col_name=\"PRICE\",y_pred_col_name=\"PREDICTED_PRICE\"))\n",
    "print('Acccuracy of Initial XGBOOST Model:', r2_score(df=result,y_true_col_name=\"PRICE\",y_pred_col_name=\"PREDICTED_PRICE\"))"
   ]
  },
  {
   "cell_type": "markdown",
   "metadata": {},
   "source": [
    "# TASK 7: Deploy the model as a Vectorized User-Defined Function (UDF)"
   ]
  },
  {
   "cell_type": "markdown",
   "metadata": {},
   "source": [
    "> ___**Note:**___> _ When you call `model.predict()` function Snowpark ML creates a temporary UDF, so in order to persist as a permanent UDF, we'll need to define our own UDF.  -- Navigate to Snowflake Query History to see executed queries -- _\n",
    "\n"
   ]
  },
  {
   "cell_type": "code",
   "execution_count": 42,
   "metadata": {},
   "outputs": [],
   "source": [
    "#import libraries \n",
    "import joblib\n",
    "from snowflake.ml.modeling.pipeline import Pipeline\n",
    "from snowflake.ml.modeling.preprocessing import OrdinalEncoder\n",
    "from snowflake.ml.modeling.xgboost import XGBRegressor\n",
    "from snowflake.snowpark import types as T\n",
    "import snowflake.snowpark.functions as F\n",
    "import cachetools\n",
    "import pandas as pd"
   ]
  },
  {
   "cell_type": "markdown",
   "metadata": {},
   "source": [
    "#### _a- Create the end to end pipeline_\n",
    "\n"
   ]
  },
  {
   "cell_type": "code",
   "execution_count": 43,
   "metadata": {},
   "outputs": [
    {
     "name": "stderr",
     "output_type": "stream",
     "text": [
      "Package 'snowflake-telemetry-python' is not installed in the local environment. Your UDF might not work when the package is installed on the server but not on your local environment.\n"
     ]
    }
   ],
   "source": [
    "# Categorize all the features for modeling\n",
    "CATEGORICAL_COLUMNS = [\"CUT\", \"COLOR\", \"CLARITY\"]\n",
    "CATEGORICAL_COLUMNS_OE = [\"CUT_OE\", \"COLOR_OE\", \"CLARITY_OE\"]\n",
    "NUMERICAL_COLUMNS = [\"CARAT\", \"DEPTH\", \"TABLE_PCT\", \"X\", \"Y\", \"Z\"]\n",
    "\n",
    "categories = {\n",
    "    \"CUT\": np.array([\"IDEAL\", \"PREMIUM\", \"VERY_GOOD\", \"GOOD\", \"FAIR\"]),\n",
    "    \"CLARITY\": np.array([\"IF\", \"VVS1\", \"VVS2\", \"VS1\", \"VS2\", \"SI1\", \"SI2\", \"I1\", \"I2\", \"I3\"]),\n",
    "    \"COLOR\": np.array(['D', 'E', 'F', 'G', 'H', 'I', 'J']),\n",
    "}\n",
    "\n",
    "# Define the end to end pipeline that contains Transforms (preprocessing) and Estimator (optimal XGBRegressor model)\n",
    "pipe = Pipeline(\n",
    "    steps=[\n",
    "        (\"OE\", OrdinalEncoder(\n",
    "            input_cols= CATEGORICAL_COLUMNS,  \n",
    "            output_cols= CATEGORICAL_COLUMNS_OE, \n",
    "            categories = categories,  \n",
    "            drop_input_cols=True)\n",
    "            ),\n",
    "        (\"regressor\", XGBRegressor(\n",
    "            learning_rate = 0.1, # Add Best best_params_ Results here \n",
    "            n_estimators = 200,  # Add Best best_params_ Results here \n",
    "            input_cols=CATEGORICAL_COLUMNS_OE + NUMERICAL_COLUMNS, \n",
    "            label_cols=[\"PRICE\"], \n",
    "            output_cols=['PREDICTED_PRICE'], \n",
    "            n_jobs=-1)\n",
    "            )\n",
    "    ]\n",
    ")\n",
    "\n",
    "# Random split\n",
    "diamonds_train_df, diamonds_test_df = diamonds_df.random_split(weights=[0.9,0.1], seed =0)\n",
    "\n",
    "# Train the model and convert it to sklearn pipeline\n",
    "xgb_optimal_model = pipe.fit(diamonds_train_df).to_sklearn()"
   ]
  },
  {
   "cell_type": "markdown",
   "metadata": {},
   "source": [
    "#### b- Save the optimal pipeline within a Snowflake Internal Stage\n",
    "\n"
   ]
  },
  {
   "cell_type": "code",
   "execution_count": 44,
   "metadata": {},
   "outputs": [
    {
     "data": {
      "text/html": [
       "<style>#sk-container-id-2 {\n",
       "  /* Definition of color scheme common for light and dark mode */\n",
       "  --sklearn-color-text: black;\n",
       "  --sklearn-color-line: gray;\n",
       "  /* Definition of color scheme for unfitted estimators */\n",
       "  --sklearn-color-unfitted-level-0: #fff5e6;\n",
       "  --sklearn-color-unfitted-level-1: #f6e4d2;\n",
       "  --sklearn-color-unfitted-level-2: #ffe0b3;\n",
       "  --sklearn-color-unfitted-level-3: chocolate;\n",
       "  /* Definition of color scheme for fitted estimators */\n",
       "  --sklearn-color-fitted-level-0: #f0f8ff;\n",
       "  --sklearn-color-fitted-level-1: #d4ebff;\n",
       "  --sklearn-color-fitted-level-2: #b3dbfd;\n",
       "  --sklearn-color-fitted-level-3: cornflowerblue;\n",
       "\n",
       "  /* Specific color for light theme */\n",
       "  --sklearn-color-text-on-default-background: var(--sg-text-color, var(--theme-code-foreground, var(--jp-content-font-color1, black)));\n",
       "  --sklearn-color-background: var(--sg-background-color, var(--theme-background, var(--jp-layout-color0, white)));\n",
       "  --sklearn-color-border-box: var(--sg-text-color, var(--theme-code-foreground, var(--jp-content-font-color1, black)));\n",
       "  --sklearn-color-icon: #696969;\n",
       "\n",
       "  @media (prefers-color-scheme: dark) {\n",
       "    /* Redefinition of color scheme for dark theme */\n",
       "    --sklearn-color-text-on-default-background: var(--sg-text-color, var(--theme-code-foreground, var(--jp-content-font-color1, white)));\n",
       "    --sklearn-color-background: var(--sg-background-color, var(--theme-background, var(--jp-layout-color0, #111)));\n",
       "    --sklearn-color-border-box: var(--sg-text-color, var(--theme-code-foreground, var(--jp-content-font-color1, white)));\n",
       "    --sklearn-color-icon: #878787;\n",
       "  }\n",
       "}\n",
       "\n",
       "#sk-container-id-2 {\n",
       "  color: var(--sklearn-color-text);\n",
       "}\n",
       "\n",
       "#sk-container-id-2 pre {\n",
       "  padding: 0;\n",
       "}\n",
       "\n",
       "#sk-container-id-2 input.sk-hidden--visually {\n",
       "  border: 0;\n",
       "  clip: rect(1px 1px 1px 1px);\n",
       "  clip: rect(1px, 1px, 1px, 1px);\n",
       "  height: 1px;\n",
       "  margin: -1px;\n",
       "  overflow: hidden;\n",
       "  padding: 0;\n",
       "  position: absolute;\n",
       "  width: 1px;\n",
       "}\n",
       "\n",
       "#sk-container-id-2 div.sk-dashed-wrapped {\n",
       "  border: 1px dashed var(--sklearn-color-line);\n",
       "  margin: 0 0.4em 0.5em 0.4em;\n",
       "  box-sizing: border-box;\n",
       "  padding-bottom: 0.4em;\n",
       "  background-color: var(--sklearn-color-background);\n",
       "}\n",
       "\n",
       "#sk-container-id-2 div.sk-container {\n",
       "  /* jupyter's `normalize.less` sets `[hidden] { display: none; }`\n",
       "     but bootstrap.min.css set `[hidden] { display: none !important; }`\n",
       "     so we also need the `!important` here to be able to override the\n",
       "     default hidden behavior on the sphinx rendered scikit-learn.org.\n",
       "     See: https://github.com/scikit-learn/scikit-learn/issues/21755 */\n",
       "  display: inline-block !important;\n",
       "  position: relative;\n",
       "}\n",
       "\n",
       "#sk-container-id-2 div.sk-text-repr-fallback {\n",
       "  display: none;\n",
       "}\n",
       "\n",
       "div.sk-parallel-item,\n",
       "div.sk-serial,\n",
       "div.sk-item {\n",
       "  /* draw centered vertical line to link estimators */\n",
       "  background-image: linear-gradient(var(--sklearn-color-text-on-default-background), var(--sklearn-color-text-on-default-background));\n",
       "  background-size: 2px 100%;\n",
       "  background-repeat: no-repeat;\n",
       "  background-position: center center;\n",
       "}\n",
       "\n",
       "/* Parallel-specific style estimator block */\n",
       "\n",
       "#sk-container-id-2 div.sk-parallel-item::after {\n",
       "  content: \"\";\n",
       "  width: 100%;\n",
       "  border-bottom: 2px solid var(--sklearn-color-text-on-default-background);\n",
       "  flex-grow: 1;\n",
       "}\n",
       "\n",
       "#sk-container-id-2 div.sk-parallel {\n",
       "  display: flex;\n",
       "  align-items: stretch;\n",
       "  justify-content: center;\n",
       "  background-color: var(--sklearn-color-background);\n",
       "  position: relative;\n",
       "}\n",
       "\n",
       "#sk-container-id-2 div.sk-parallel-item {\n",
       "  display: flex;\n",
       "  flex-direction: column;\n",
       "}\n",
       "\n",
       "#sk-container-id-2 div.sk-parallel-item:first-child::after {\n",
       "  align-self: flex-end;\n",
       "  width: 50%;\n",
       "}\n",
       "\n",
       "#sk-container-id-2 div.sk-parallel-item:last-child::after {\n",
       "  align-self: flex-start;\n",
       "  width: 50%;\n",
       "}\n",
       "\n",
       "#sk-container-id-2 div.sk-parallel-item:only-child::after {\n",
       "  width: 0;\n",
       "}\n",
       "\n",
       "/* Serial-specific style estimator block */\n",
       "\n",
       "#sk-container-id-2 div.sk-serial {\n",
       "  display: flex;\n",
       "  flex-direction: column;\n",
       "  align-items: center;\n",
       "  background-color: var(--sklearn-color-background);\n",
       "  padding-right: 1em;\n",
       "  padding-left: 1em;\n",
       "}\n",
       "\n",
       "\n",
       "/* Toggleable style: style used for estimator/Pipeline/ColumnTransformer box that is\n",
       "clickable and can be expanded/collapsed.\n",
       "- Pipeline and ColumnTransformer use this feature and define the default style\n",
       "- Estimators will overwrite some part of the style using the `sk-estimator` class\n",
       "*/\n",
       "\n",
       "/* Pipeline and ColumnTransformer style (default) */\n",
       "\n",
       "#sk-container-id-2 div.sk-toggleable {\n",
       "  /* Default theme specific background. It is overwritten whether we have a\n",
       "  specific estimator or a Pipeline/ColumnTransformer */\n",
       "  background-color: var(--sklearn-color-background);\n",
       "}\n",
       "\n",
       "/* Toggleable label */\n",
       "#sk-container-id-2 label.sk-toggleable__label {\n",
       "  cursor: pointer;\n",
       "  display: block;\n",
       "  width: 100%;\n",
       "  margin-bottom: 0;\n",
       "  padding: 0.5em;\n",
       "  box-sizing: border-box;\n",
       "  text-align: center;\n",
       "}\n",
       "\n",
       "#sk-container-id-2 label.sk-toggleable__label-arrow:before {\n",
       "  /* Arrow on the left of the label */\n",
       "  content: \"▸\";\n",
       "  float: left;\n",
       "  margin-right: 0.25em;\n",
       "  color: var(--sklearn-color-icon);\n",
       "}\n",
       "\n",
       "#sk-container-id-2 label.sk-toggleable__label-arrow:hover:before {\n",
       "  color: var(--sklearn-color-text);\n",
       "}\n",
       "\n",
       "/* Toggleable content - dropdown */\n",
       "\n",
       "#sk-container-id-2 div.sk-toggleable__content {\n",
       "  max-height: 0;\n",
       "  max-width: 0;\n",
       "  overflow: hidden;\n",
       "  text-align: left;\n",
       "  /* unfitted */\n",
       "  background-color: var(--sklearn-color-unfitted-level-0);\n",
       "}\n",
       "\n",
       "#sk-container-id-2 div.sk-toggleable__content.fitted {\n",
       "  /* fitted */\n",
       "  background-color: var(--sklearn-color-fitted-level-0);\n",
       "}\n",
       "\n",
       "#sk-container-id-2 div.sk-toggleable__content pre {\n",
       "  margin: 0.2em;\n",
       "  border-radius: 0.25em;\n",
       "  color: var(--sklearn-color-text);\n",
       "  /* unfitted */\n",
       "  background-color: var(--sklearn-color-unfitted-level-0);\n",
       "}\n",
       "\n",
       "#sk-container-id-2 div.sk-toggleable__content.fitted pre {\n",
       "  /* unfitted */\n",
       "  background-color: var(--sklearn-color-fitted-level-0);\n",
       "}\n",
       "\n",
       "#sk-container-id-2 input.sk-toggleable__control:checked~div.sk-toggleable__content {\n",
       "  /* Expand drop-down */\n",
       "  max-height: 200px;\n",
       "  max-width: 100%;\n",
       "  overflow: auto;\n",
       "}\n",
       "\n",
       "#sk-container-id-2 input.sk-toggleable__control:checked~label.sk-toggleable__label-arrow:before {\n",
       "  content: \"▾\";\n",
       "}\n",
       "\n",
       "/* Pipeline/ColumnTransformer-specific style */\n",
       "\n",
       "#sk-container-id-2 div.sk-label input.sk-toggleable__control:checked~label.sk-toggleable__label {\n",
       "  color: var(--sklearn-color-text);\n",
       "  background-color: var(--sklearn-color-unfitted-level-2);\n",
       "}\n",
       "\n",
       "#sk-container-id-2 div.sk-label.fitted input.sk-toggleable__control:checked~label.sk-toggleable__label {\n",
       "  background-color: var(--sklearn-color-fitted-level-2);\n",
       "}\n",
       "\n",
       "/* Estimator-specific style */\n",
       "\n",
       "/* Colorize estimator box */\n",
       "#sk-container-id-2 div.sk-estimator input.sk-toggleable__control:checked~label.sk-toggleable__label {\n",
       "  /* unfitted */\n",
       "  background-color: var(--sklearn-color-unfitted-level-2);\n",
       "}\n",
       "\n",
       "#sk-container-id-2 div.sk-estimator.fitted input.sk-toggleable__control:checked~label.sk-toggleable__label {\n",
       "  /* fitted */\n",
       "  background-color: var(--sklearn-color-fitted-level-2);\n",
       "}\n",
       "\n",
       "#sk-container-id-2 div.sk-label label.sk-toggleable__label,\n",
       "#sk-container-id-2 div.sk-label label {\n",
       "  /* The background is the default theme color */\n",
       "  color: var(--sklearn-color-text-on-default-background);\n",
       "}\n",
       "\n",
       "/* On hover, darken the color of the background */\n",
       "#sk-container-id-2 div.sk-label:hover label.sk-toggleable__label {\n",
       "  color: var(--sklearn-color-text);\n",
       "  background-color: var(--sklearn-color-unfitted-level-2);\n",
       "}\n",
       "\n",
       "/* Label box, darken color on hover, fitted */\n",
       "#sk-container-id-2 div.sk-label.fitted:hover label.sk-toggleable__label.fitted {\n",
       "  color: var(--sklearn-color-text);\n",
       "  background-color: var(--sklearn-color-fitted-level-2);\n",
       "}\n",
       "\n",
       "/* Estimator label */\n",
       "\n",
       "#sk-container-id-2 div.sk-label label {\n",
       "  font-family: monospace;\n",
       "  font-weight: bold;\n",
       "  display: inline-block;\n",
       "  line-height: 1.2em;\n",
       "}\n",
       "\n",
       "#sk-container-id-2 div.sk-label-container {\n",
       "  text-align: center;\n",
       "}\n",
       "\n",
       "/* Estimator-specific */\n",
       "#sk-container-id-2 div.sk-estimator {\n",
       "  font-family: monospace;\n",
       "  border: 1px dotted var(--sklearn-color-border-box);\n",
       "  border-radius: 0.25em;\n",
       "  box-sizing: border-box;\n",
       "  margin-bottom: 0.5em;\n",
       "  /* unfitted */\n",
       "  background-color: var(--sklearn-color-unfitted-level-0);\n",
       "}\n",
       "\n",
       "#sk-container-id-2 div.sk-estimator.fitted {\n",
       "  /* fitted */\n",
       "  background-color: var(--sklearn-color-fitted-level-0);\n",
       "}\n",
       "\n",
       "/* on hover */\n",
       "#sk-container-id-2 div.sk-estimator:hover {\n",
       "  /* unfitted */\n",
       "  background-color: var(--sklearn-color-unfitted-level-2);\n",
       "}\n",
       "\n",
       "#sk-container-id-2 div.sk-estimator.fitted:hover {\n",
       "  /* fitted */\n",
       "  background-color: var(--sklearn-color-fitted-level-2);\n",
       "}\n",
       "\n",
       "/* Specification for estimator info (e.g. \"i\" and \"?\") */\n",
       "\n",
       "/* Common style for \"i\" and \"?\" */\n",
       "\n",
       ".sk-estimator-doc-link,\n",
       "a:link.sk-estimator-doc-link,\n",
       "a:visited.sk-estimator-doc-link {\n",
       "  float: right;\n",
       "  font-size: smaller;\n",
       "  line-height: 1em;\n",
       "  font-family: monospace;\n",
       "  background-color: var(--sklearn-color-background);\n",
       "  border-radius: 1em;\n",
       "  height: 1em;\n",
       "  width: 1em;\n",
       "  text-decoration: none !important;\n",
       "  margin-left: 1ex;\n",
       "  /* unfitted */\n",
       "  border: var(--sklearn-color-unfitted-level-1) 1pt solid;\n",
       "  color: var(--sklearn-color-unfitted-level-1);\n",
       "}\n",
       "\n",
       ".sk-estimator-doc-link.fitted,\n",
       "a:link.sk-estimator-doc-link.fitted,\n",
       "a:visited.sk-estimator-doc-link.fitted {\n",
       "  /* fitted */\n",
       "  border: var(--sklearn-color-fitted-level-1) 1pt solid;\n",
       "  color: var(--sklearn-color-fitted-level-1);\n",
       "}\n",
       "\n",
       "/* On hover */\n",
       "div.sk-estimator:hover .sk-estimator-doc-link:hover,\n",
       ".sk-estimator-doc-link:hover,\n",
       "div.sk-label-container:hover .sk-estimator-doc-link:hover,\n",
       ".sk-estimator-doc-link:hover {\n",
       "  /* unfitted */\n",
       "  background-color: var(--sklearn-color-unfitted-level-3);\n",
       "  color: var(--sklearn-color-background);\n",
       "  text-decoration: none;\n",
       "}\n",
       "\n",
       "div.sk-estimator.fitted:hover .sk-estimator-doc-link.fitted:hover,\n",
       ".sk-estimator-doc-link.fitted:hover,\n",
       "div.sk-label-container:hover .sk-estimator-doc-link.fitted:hover,\n",
       ".sk-estimator-doc-link.fitted:hover {\n",
       "  /* fitted */\n",
       "  background-color: var(--sklearn-color-fitted-level-3);\n",
       "  color: var(--sklearn-color-background);\n",
       "  text-decoration: none;\n",
       "}\n",
       "\n",
       "/* Span, style for the box shown on hovering the info icon */\n",
       ".sk-estimator-doc-link span {\n",
       "  display: none;\n",
       "  z-index: 9999;\n",
       "  position: relative;\n",
       "  font-weight: normal;\n",
       "  right: .2ex;\n",
       "  padding: .5ex;\n",
       "  margin: .5ex;\n",
       "  width: min-content;\n",
       "  min-width: 20ex;\n",
       "  max-width: 50ex;\n",
       "  color: var(--sklearn-color-text);\n",
       "  box-shadow: 2pt 2pt 4pt #999;\n",
       "  /* unfitted */\n",
       "  background: var(--sklearn-color-unfitted-level-0);\n",
       "  border: .5pt solid var(--sklearn-color-unfitted-level-3);\n",
       "}\n",
       "\n",
       ".sk-estimator-doc-link.fitted span {\n",
       "  /* fitted */\n",
       "  background: var(--sklearn-color-fitted-level-0);\n",
       "  border: var(--sklearn-color-fitted-level-3);\n",
       "}\n",
       "\n",
       ".sk-estimator-doc-link:hover span {\n",
       "  display: block;\n",
       "}\n",
       "\n",
       "/* \"?\"-specific style due to the `<a>` HTML tag */\n",
       "\n",
       "#sk-container-id-2 a.estimator_doc_link {\n",
       "  float: right;\n",
       "  font-size: 1rem;\n",
       "  line-height: 1em;\n",
       "  font-family: monospace;\n",
       "  background-color: var(--sklearn-color-background);\n",
       "  border-radius: 1rem;\n",
       "  height: 1rem;\n",
       "  width: 1rem;\n",
       "  text-decoration: none;\n",
       "  /* unfitted */\n",
       "  color: var(--sklearn-color-unfitted-level-1);\n",
       "  border: var(--sklearn-color-unfitted-level-1) 1pt solid;\n",
       "}\n",
       "\n",
       "#sk-container-id-2 a.estimator_doc_link.fitted {\n",
       "  /* fitted */\n",
       "  border: var(--sklearn-color-fitted-level-1) 1pt solid;\n",
       "  color: var(--sklearn-color-fitted-level-1);\n",
       "}\n",
       "\n",
       "/* On hover */\n",
       "#sk-container-id-2 a.estimator_doc_link:hover {\n",
       "  /* unfitted */\n",
       "  background-color: var(--sklearn-color-unfitted-level-3);\n",
       "  color: var(--sklearn-color-background);\n",
       "  text-decoration: none;\n",
       "}\n",
       "\n",
       "#sk-container-id-2 a.estimator_doc_link.fitted:hover {\n",
       "  /* fitted */\n",
       "  background-color: var(--sklearn-color-fitted-level-3);\n",
       "}\n",
       "</style><div id=\"sk-container-id-2\" class=\"sk-top-container\"><div class=\"sk-text-repr-fallback\"><pre>Pipeline(steps=[(&#x27;OE&#x27;,\n",
       "                 ColumnTransformer(remainder=&#x27;passthrough&#x27;,\n",
       "                                   transformers=[(&#x27;OE&#x27;,\n",
       "                                                  OrdinalEncoder(categories=[array([&#x27;IDEAL&#x27;, &#x27;PREMIUM&#x27;, &#x27;VERY_GOOD&#x27;, &#x27;GOOD&#x27;, &#x27;FAIR&#x27;], dtype=&#x27;&lt;U9&#x27;),\n",
       "                                                                             array([&#x27;D&#x27;, &#x27;E&#x27;, &#x27;F&#x27;, &#x27;G&#x27;, &#x27;H&#x27;, &#x27;I&#x27;, &#x27;J&#x27;], dtype=&#x27;&lt;U1&#x27;),\n",
       "                                                                             array([&#x27;IF&#x27;, &#x27;VVS1&#x27;, &#x27;VVS2&#x27;, &#x27;VS1&#x27;, &#x27;VS2&#x27;, &#x27;SI1&#x27;, &#x27;SI2&#x27;, &#x27;I1&#x27;, &#x27;I2&#x27;, &#x27;I3&#x27;],\n",
       "      dtype=&#x27;&lt;U4&#x27;)]),\n",
       "                                                  [7, 1, 2])])),\n",
       "                (&#x27;filter_input_cols_for_estimato...\n",
       "                              feature_types=None, gamma=None, grow_policy=None,\n",
       "                              importance_type=None,\n",
       "                              interaction_constraints=None, learning_rate=0.1,\n",
       "                              max_bin=None, max_cat_threshold=None,\n",
       "                              max_cat_to_onehot=None, max_delta_step=None,\n",
       "                              max_depth=None, max_leaves=None,\n",
       "                              min_child_weight=None, missing=nan,\n",
       "                              monotone_constraints=None, multi_strategy=None,\n",
       "                              n_estimators=200, n_jobs=-1,\n",
       "                              num_parallel_tree=None, random_state=None, ...))])</pre><b>In a Jupyter environment, please rerun this cell to show the HTML representation or trust the notebook. <br />On GitHub, the HTML representation is unable to render, please try loading this page with nbviewer.org.</b></div><div class=\"sk-container\" hidden><div class=\"sk-item sk-dashed-wrapped\"><div class=\"sk-label-container\"><div class=\"sk-label fitted sk-toggleable\"><input class=\"sk-toggleable__control sk-hidden--visually\" id=\"sk-estimator-id-7\" type=\"checkbox\" ><label for=\"sk-estimator-id-7\" class=\"sk-toggleable__label fitted sk-toggleable__label-arrow fitted\">&nbsp;&nbsp;Pipeline<a class=\"sk-estimator-doc-link fitted\" rel=\"noreferrer\" target=\"_blank\" href=\"https://scikit-learn.org/1.5/modules/generated/sklearn.pipeline.Pipeline.html\">?<span>Documentation for Pipeline</span></a><span class=\"sk-estimator-doc-link fitted\">i<span>Fitted</span></span></label><div class=\"sk-toggleable__content fitted\"><pre>Pipeline(steps=[(&#x27;OE&#x27;,\n",
       "                 ColumnTransformer(remainder=&#x27;passthrough&#x27;,\n",
       "                                   transformers=[(&#x27;OE&#x27;,\n",
       "                                                  OrdinalEncoder(categories=[array([&#x27;IDEAL&#x27;, &#x27;PREMIUM&#x27;, &#x27;VERY_GOOD&#x27;, &#x27;GOOD&#x27;, &#x27;FAIR&#x27;], dtype=&#x27;&lt;U9&#x27;),\n",
       "                                                                             array([&#x27;D&#x27;, &#x27;E&#x27;, &#x27;F&#x27;, &#x27;G&#x27;, &#x27;H&#x27;, &#x27;I&#x27;, &#x27;J&#x27;], dtype=&#x27;&lt;U1&#x27;),\n",
       "                                                                             array([&#x27;IF&#x27;, &#x27;VVS1&#x27;, &#x27;VVS2&#x27;, &#x27;VS1&#x27;, &#x27;VS2&#x27;, &#x27;SI1&#x27;, &#x27;SI2&#x27;, &#x27;I1&#x27;, &#x27;I2&#x27;, &#x27;I3&#x27;],\n",
       "      dtype=&#x27;&lt;U4&#x27;)]),\n",
       "                                                  [7, 1, 2])])),\n",
       "                (&#x27;filter_input_cols_for_estimato...\n",
       "                              feature_types=None, gamma=None, grow_policy=None,\n",
       "                              importance_type=None,\n",
       "                              interaction_constraints=None, learning_rate=0.1,\n",
       "                              max_bin=None, max_cat_threshold=None,\n",
       "                              max_cat_to_onehot=None, max_delta_step=None,\n",
       "                              max_depth=None, max_leaves=None,\n",
       "                              min_child_weight=None, missing=nan,\n",
       "                              monotone_constraints=None, multi_strategy=None,\n",
       "                              n_estimators=200, n_jobs=-1,\n",
       "                              num_parallel_tree=None, random_state=None, ...))])</pre></div> </div></div><div class=\"sk-serial\"><div class=\"sk-item sk-dashed-wrapped\"><div class=\"sk-label-container\"><div class=\"sk-label fitted sk-toggleable\"><input class=\"sk-toggleable__control sk-hidden--visually\" id=\"sk-estimator-id-8\" type=\"checkbox\" ><label for=\"sk-estimator-id-8\" class=\"sk-toggleable__label fitted sk-toggleable__label-arrow fitted\">&nbsp;OE: ColumnTransformer<a class=\"sk-estimator-doc-link fitted\" rel=\"noreferrer\" target=\"_blank\" href=\"https://scikit-learn.org/1.5/modules/generated/sklearn.compose.ColumnTransformer.html\">?<span>Documentation for OE: ColumnTransformer</span></a></label><div class=\"sk-toggleable__content fitted\"><pre>ColumnTransformer(remainder=&#x27;passthrough&#x27;,\n",
       "                  transformers=[(&#x27;OE&#x27;,\n",
       "                                 OrdinalEncoder(categories=[array([&#x27;IDEAL&#x27;, &#x27;PREMIUM&#x27;, &#x27;VERY_GOOD&#x27;, &#x27;GOOD&#x27;, &#x27;FAIR&#x27;], dtype=&#x27;&lt;U9&#x27;),\n",
       "                                                            array([&#x27;D&#x27;, &#x27;E&#x27;, &#x27;F&#x27;, &#x27;G&#x27;, &#x27;H&#x27;, &#x27;I&#x27;, &#x27;J&#x27;], dtype=&#x27;&lt;U1&#x27;),\n",
       "                                                            array([&#x27;IF&#x27;, &#x27;VVS1&#x27;, &#x27;VVS2&#x27;, &#x27;VS1&#x27;, &#x27;VS2&#x27;, &#x27;SI1&#x27;, &#x27;SI2&#x27;, &#x27;I1&#x27;, &#x27;I2&#x27;, &#x27;I3&#x27;],\n",
       "      dtype=&#x27;&lt;U4&#x27;)]),\n",
       "                                 [7, 1, 2])])</pre></div> </div></div><div class=\"sk-parallel\"><div class=\"sk-parallel-item\"><div class=\"sk-item\"><div class=\"sk-label-container\"><div class=\"sk-label fitted sk-toggleable\"><input class=\"sk-toggleable__control sk-hidden--visually\" id=\"sk-estimator-id-9\" type=\"checkbox\" ><label for=\"sk-estimator-id-9\" class=\"sk-toggleable__label fitted sk-toggleable__label-arrow fitted\">OE</label><div class=\"sk-toggleable__content fitted\"><pre>[7, 1, 2]</pre></div> </div></div><div class=\"sk-serial\"><div class=\"sk-item\"><div class=\"sk-estimator fitted sk-toggleable\"><input class=\"sk-toggleable__control sk-hidden--visually\" id=\"sk-estimator-id-10\" type=\"checkbox\" ><label for=\"sk-estimator-id-10\" class=\"sk-toggleable__label fitted sk-toggleable__label-arrow fitted\">&nbsp;OrdinalEncoder<a class=\"sk-estimator-doc-link fitted\" rel=\"noreferrer\" target=\"_blank\" href=\"https://scikit-learn.org/1.5/modules/generated/sklearn.preprocessing.OrdinalEncoder.html\">?<span>Documentation for OrdinalEncoder</span></a></label><div class=\"sk-toggleable__content fitted\"><pre>OrdinalEncoder(categories=[array([&#x27;IDEAL&#x27;, &#x27;PREMIUM&#x27;, &#x27;VERY_GOOD&#x27;, &#x27;GOOD&#x27;, &#x27;FAIR&#x27;], dtype=&#x27;&lt;U9&#x27;),\n",
       "                           array([&#x27;D&#x27;, &#x27;E&#x27;, &#x27;F&#x27;, &#x27;G&#x27;, &#x27;H&#x27;, &#x27;I&#x27;, &#x27;J&#x27;], dtype=&#x27;&lt;U1&#x27;),\n",
       "                           array([&#x27;IF&#x27;, &#x27;VVS1&#x27;, &#x27;VVS2&#x27;, &#x27;VS1&#x27;, &#x27;VS2&#x27;, &#x27;SI1&#x27;, &#x27;SI2&#x27;, &#x27;I1&#x27;, &#x27;I2&#x27;, &#x27;I3&#x27;],\n",
       "      dtype=&#x27;&lt;U4&#x27;)])</pre></div> </div></div></div></div></div><div class=\"sk-parallel-item\"><div class=\"sk-item\"><div class=\"sk-label-container\"><div class=\"sk-label fitted sk-toggleable\"><input class=\"sk-toggleable__control sk-hidden--visually\" id=\"sk-estimator-id-11\" type=\"checkbox\" ><label for=\"sk-estimator-id-11\" class=\"sk-toggleable__label fitted sk-toggleable__label-arrow fitted\">remainder</label><div class=\"sk-toggleable__content fitted\"><pre>[&#x27;CARAT&#x27;, &#x27;TABLE_PCT&#x27;, &#x27;X&#x27;, &#x27;Y&#x27;, &#x27;Z&#x27;, &#x27;DEPTH&#x27;]</pre></div> </div></div><div class=\"sk-serial\"><div class=\"sk-item\"><div class=\"sk-estimator fitted sk-toggleable\"><input class=\"sk-toggleable__control sk-hidden--visually\" id=\"sk-estimator-id-12\" type=\"checkbox\" ><label for=\"sk-estimator-id-12\" class=\"sk-toggleable__label fitted sk-toggleable__label-arrow fitted\">passthrough</label><div class=\"sk-toggleable__content fitted\"><pre>passthrough</pre></div> </div></div></div></div></div></div></div><div class=\"sk-item sk-dashed-wrapped\"><div class=\"sk-label-container\"><div class=\"sk-label fitted sk-toggleable\"><input class=\"sk-toggleable__control sk-hidden--visually\" id=\"sk-estimator-id-13\" type=\"checkbox\" ><label for=\"sk-estimator-id-13\" class=\"sk-toggleable__label fitted sk-toggleable__label-arrow fitted\">&nbsp;filter_input_cols_for_estimator: ColumnTransformer<a class=\"sk-estimator-doc-link fitted\" rel=\"noreferrer\" target=\"_blank\" href=\"https://scikit-learn.org/1.5/modules/generated/sklearn.compose.ColumnTransformer.html\">?<span>Documentation for filter_input_cols_for_estimator: ColumnTransformer</span></a></label><div class=\"sk-toggleable__content fitted\"><pre>ColumnTransformer(remainder=&#x27;passthrough&#x27;,\n",
       "                  transformers=[(&#x27;filter_input_cols_for_estimator&#x27;,\n",
       "                                 &#x27;passthrough&#x27;, [0, 1, 2, 3, 8, 4, 5, 6, 7])])</pre></div> </div></div><div class=\"sk-parallel\"><div class=\"sk-parallel-item\"><div class=\"sk-item\"><div class=\"sk-label-container\"><div class=\"sk-label fitted sk-toggleable\"><input class=\"sk-toggleable__control sk-hidden--visually\" id=\"sk-estimator-id-14\" type=\"checkbox\" ><label for=\"sk-estimator-id-14\" class=\"sk-toggleable__label fitted sk-toggleable__label-arrow fitted\">filter_input_cols_for_estimator</label><div class=\"sk-toggleable__content fitted\"><pre>[0, 1, 2, 3, 8, 4, 5, 6, 7]</pre></div> </div></div><div class=\"sk-serial\"><div class=\"sk-item\"><div class=\"sk-estimator fitted sk-toggleable\"><input class=\"sk-toggleable__control sk-hidden--visually\" id=\"sk-estimator-id-15\" type=\"checkbox\" ><label for=\"sk-estimator-id-15\" class=\"sk-toggleable__label fitted sk-toggleable__label-arrow fitted\">passthrough</label><div class=\"sk-toggleable__content fitted\"><pre>passthrough</pre></div> </div></div></div></div></div><div class=\"sk-parallel-item\"><div class=\"sk-item\"><div class=\"sk-label-container\"><div class=\"sk-label fitted sk-toggleable\"><input class=\"sk-toggleable__control sk-hidden--visually\" id=\"sk-estimator-id-16\" type=\"checkbox\" ><label for=\"sk-estimator-id-16\" class=\"sk-toggleable__label fitted sk-toggleable__label-arrow fitted\">remainder</label><div class=\"sk-toggleable__content fitted\"><pre>[]</pre></div> </div></div><div class=\"sk-serial\"><div class=\"sk-item\"><div class=\"sk-estimator fitted sk-toggleable\"><input class=\"sk-toggleable__control sk-hidden--visually\" id=\"sk-estimator-id-17\" type=\"checkbox\" ><label for=\"sk-estimator-id-17\" class=\"sk-toggleable__label fitted sk-toggleable__label-arrow fitted\">passthrough</label><div class=\"sk-toggleable__content fitted\"><pre>passthrough</pre></div> </div></div></div></div></div></div></div><div class=\"sk-item\"><div class=\"sk-estimator fitted sk-toggleable\"><input class=\"sk-toggleable__control sk-hidden--visually\" id=\"sk-estimator-id-18\" type=\"checkbox\" ><label for=\"sk-estimator-id-18\" class=\"sk-toggleable__label fitted sk-toggleable__label-arrow fitted\">XGBRegressor</label><div class=\"sk-toggleable__content fitted\"><pre>XGBRegressor(base_score=None, booster=None, callbacks=None,\n",
       "             colsample_bylevel=None, colsample_bynode=None,\n",
       "             colsample_bytree=None, device=None, early_stopping_rounds=None,\n",
       "             enable_categorical=False, eval_metric=None, feature_types=None,\n",
       "             gamma=None, grow_policy=None, importance_type=None,\n",
       "             interaction_constraints=None, learning_rate=0.1, max_bin=None,\n",
       "             max_cat_threshold=None, max_cat_to_onehot=None,\n",
       "             max_delta_step=None, max_depth=None, max_leaves=None,\n",
       "             min_child_weight=None, missing=nan, monotone_constraints=None,\n",
       "             multi_strategy=None, n_estimators=200, n_jobs=-1,\n",
       "             num_parallel_tree=None, random_state=None, ...)</pre></div> </div></div></div></div></div></div>"
      ],
      "text/plain": [
       "Pipeline(steps=[('OE',\n",
       "                 ColumnTransformer(remainder='passthrough',\n",
       "                                   transformers=[('OE',\n",
       "                                                  OrdinalEncoder(categories=[array(['IDEAL', 'PREMIUM', 'VERY_GOOD', 'GOOD', 'FAIR'], dtype='<U9'),\n",
       "                                                                             array(['D', 'E', 'F', 'G', 'H', 'I', 'J'], dtype='<U1'),\n",
       "                                                                             array(['IF', 'VVS1', 'VVS2', 'VS1', 'VS2', 'SI1', 'SI2', 'I1', 'I2', 'I3'],\n",
       "      dtype='<U4')]),\n",
       "                                                  [7, 1, 2])])),\n",
       "                ('filter_input_cols_for_estimato...\n",
       "                              feature_types=None, gamma=None, grow_policy=None,\n",
       "                              importance_type=None,\n",
       "                              interaction_constraints=None, learning_rate=0.1,\n",
       "                              max_bin=None, max_cat_threshold=None,\n",
       "                              max_cat_to_onehot=None, max_delta_step=None,\n",
       "                              max_depth=None, max_leaves=None,\n",
       "                              min_child_weight=None, missing=nan,\n",
       "                              monotone_constraints=None, multi_strategy=None,\n",
       "                              n_estimators=200, n_jobs=-1,\n",
       "                              num_parallel_tree=None, random_state=None, ...))])"
      ]
     },
     "execution_count": 44,
     "metadata": {},
     "output_type": "execute_result"
    }
   ],
   "source": [
    "from sklearn import set_config\n",
    "set_config(display=\"diagram\")\n",
    "xgb_optimal_model"
   ]
  },
  {
   "cell_type": "code",
   "execution_count": 45,
   "metadata": {},
   "outputs": [
    {
     "data": {
      "text/plain": [
       "[PutResult(source='xgb_optimal_pipe.joblib', target='xgb_optimal_pipe.joblib', source_size=839432, target_size=839440, source_compression='NONE', target_compression='NONE', status='UPLOADED', message='')]"
      ]
     },
     "execution_count": 45,
     "metadata": {},
     "output_type": "execute_result"
    }
   ],
   "source": [
    "# Define a file name for the model\n",
    "MODEL_FILE = 'xgb_optimal_pipe.joblib'\n",
    "\n",
    "# Serialize and save the model to a file\n",
    "joblib.dump(xgb_optimal_model, MODEL_FILE)\n",
    "\n",
    "# Upload the model file to the specified stage\n",
    "session.file.put(MODEL_FILE, \"@ML_FILES\", overwrite=True, auto_compress=False)"
   ]
  },
  {
   "cell_type": "markdown",
   "metadata": {},
   "source": [
    "#### c- Register the model as a Vectorized UDF\n",
    "\n"
   ]
  },
  {
   "cell_type": "markdown",
   "metadata": {},
   "source": [
    "_Vectorized Python UDFs let you define Python functions that receive batches of input rows as Pandas DataFrames and return batches of results as Pandas arrays or Series. You call vectorized Python UDFs the same way you call other Python UDFs.\n",
    "\n",
    "Advantages of using vectorized Python UDFs compared to the default row-by-row processing pattern include:\n",
    "\n",
    "_\n",
    "\n",
    "- _The potential for better performance if your Python code operates efficiently on batches of rows.\n",
    "_\n",
    "- _Less transformation logic is required if you are calling into libraries that operate on Pandas DataFrames or Pandas arrays._\n",
    "\n",
    "_For more details please visit _[Snowflake Documentation](https://docs.snowflake.com/en/developer-guide/udf/python/udf-python-batch)_._\n",
    "\n"
   ]
  },
  {
   "cell_type": "code",
   "execution_count": 48,
   "metadata": {},
   "outputs": [
    {
     "data": {
      "text/plain": [
       "'1.5.2'"
      ]
     },
     "execution_count": 48,
     "metadata": {},
     "output_type": "execute_result"
    }
   ],
   "source": [
    "import sklearn \n",
    "sklearn.__version__"
   ]
  },
  {
   "cell_type": "code",
   "execution_count": 49,
   "metadata": {},
   "outputs": [],
   "source": [
    "# Define a function to read the model from a file\n",
    "@cachetools.cached(cache={})\n",
    "def read_file(filename):\n",
    "    import joblib\n",
    "    import sys\n",
    "    import os\n",
    "\n",
    "    IMPORT_DIRECTORY_NAME = \"snowflake_import_directory\"\n",
    "    import_dir = sys._xoptions[IMPORT_DIRECTORY_NAME]\n",
    "\n",
    "    if import_dir:\n",
    "        with open(os.path.join(import_dir, filename), 'rb') as file:\n",
    "            m = joblib.load(file)\n",
    "            return m\n",
    "\n",
    "\n",
    "# Create a vectorized UDF for batch inference\n",
    "@F.udf(name=\"predict_diamond_price\",\n",
    "        is_permanent=True,\n",
    "        stage_location = '@ML_FILES',\n",
    "        imports=['@ML_FILES/xgb_optimal_pipe.joblib'],\n",
    "        packages=['snowflake-ml-python', 'joblib', 'scikit-learn==1.5.2', 'xgboost==2.1.1', 'cachetools'],\n",
    "        replace=True,\n",
    "        session=session)\n",
    "def predict_diamond_price(pd_input: T.PandasDataFrame[str, str, str, float, float, float, float, float, float]) -> T.PandasSeries[float]:\n",
    "        # Make sure you have the columns in the expected order in the Pandas DataFrame\n",
    "    features = [\"CUT\", \"COLOR\", \"CLARITY\", \"CARAT\", \"DEPTH\", \"TABLE_PCT\", \"X\", \"Y\", \"Z\"]\n",
    "    pd_input.columns =  features\n",
    "    model = read_file('xgb_optimal_pipe.joblib')             \n",
    "    prediction = model.predict(pd_input)       \n",
    "    return prediction              "
   ]
  },
  {
   "cell_type": "markdown",
   "metadata": {},
   "source": [
    "#### d-Call the UDF and Predict Price for New Diamonds Table\n",
    "\n"
   ]
  },
  {
   "cell_type": "code",
   "execution_count": 50,
   "metadata": {},
   "outputs": [],
   "source": [
    "# Create a Snowpark DF containing Diamonds_NEW Table\n",
    "new_diamonds = session.table('DIAMONDS_NEW') \n",
    "\n",
    "# Apply the UDF to your DataFrame\n",
    "new_diamonds_w_prediction = new_diamonds.with_column(\"PREDICTED_PRICE\", F.call_function(\"predict_diamond_price\", \n",
    "                                    F.col(\"CUT\"), F.col(\"COLOR\"), F.col(\"CLARITY\"), \n",
    "                                    F.col(\"CARAT\"), F.col(\"DEPTH\"), F.col(\"TABLE_PCT\"), \n",
    "                                    F.col(\"X\"), F.col(\"Y\"), F.col(\"Z\"))\n",
    "                                    )\n",
    "\n",
    "# # Show the result\n",
    "# new_diamonds_w_prediction.show()"
   ]
  },
  {
   "cell_type": "code",
   "execution_count": 51,
   "metadata": {},
   "outputs": [
    {
     "name": "stdout",
     "output_type": "stream",
     "text": [
      "---------------------------------------------------------------------------------------------------------------\n",
      "|\"CARAT\"  |\"COLOR\"  |\"CLARITY\"  |\"TABLE_PCT\"  |\"X\"   |\"Y\"   |\"Z\"   |\"CUT\"      |\"DEPTH\"  |\"PREDICTED_PRICE\"   |\n",
      "---------------------------------------------------------------------------------------------------------------\n",
      "|1.23     |H        |SI2        |57           |6.98  |6.94  |4.22  |IDEAL      |60.6     |5562.8505859375     |\n",
      "|1.22     |E        |VVS1       |60           |6.87  |6.85  |4.19  |PREMIUM    |61.1     |13805.7587890625    |\n",
      "|1.28     |J        |SI1        |56           |7.13  |7.00  |4.37  |PREMIUM    |61.9     |5343.83984375       |\n",
      "|0.24     |E        |VVS1       |58           |4.03  |4.01  |2.44  |PREMIUM    |60.7     |670.1036987304688   |\n",
      "|1.01     |H        |VS1        |57           |6.47  |6.38  |3.96  |PREMIUM    |61.6     |5321.9072265625     |\n",
      "|0.33     |I        |SI1        |59           |4.50  |4.54  |2.73  |PREMIUM    |60.4     |471.61053466796875  |\n",
      "|0.59     |I        |VS2        |56           |5.37  |5.33  |3.39  |VERY_GOOD  |63.4     |1330.218994140625   |\n",
      "|2.00     |H        |SI1        |60           |8.04  |8.01  |4.80  |PREMIUM    |59.8     |15118.0166015625    |\n",
      "|1.04     |E        |SI1        |58           |6.46  |6.39  |4.10  |GOOD       |63.8     |5262.78466796875    |\n",
      "|1.52     |I        |VS2        |59           |7.34  |7.19  |4.55  |PREMIUM    |62.6     |8367.8857421875     |\n",
      "---------------------------------------------------------------------------------------------------------------\n",
      "\n"
     ]
    }
   ],
   "source": [
    "# Show the result\n",
    "\n",
    "new_diamonds_w_prediction.show()"
   ]
  },
  {
   "cell_type": "markdown",
   "metadata": {},
   "source": [
    "#### e-Save Predictions in a  new Snowflake Table \n",
    "\n"
   ]
  },
  {
   "cell_type": "code",
   "execution_count": 52,
   "metadata": {},
   "outputs": [],
   "source": [
    "# Write predictions to a Snowflake table\n",
    "new_diamonds_w_prediction.write.mode('overwrite').save_as_table('diamonds_new_w_predictions')"
   ]
  },
  {
   "cell_type": "code",
   "execution_count": 53,
   "metadata": {},
   "outputs": [],
   "source": [
    "session.close()"
   ]
  },
  {
   "cell_type": "markdown",
   "metadata": {},
   "source": [
    "# ------- END OF THE GUIDED PROJECT.... CONGRATULATIONS !! -------\n",
    "\n"
   ]
  }
 ],
 "metadata": {
  "hex_info": {
   "author": "James McIntyre",
   "exported_date": "Sat Mar 01 2025 21:02:25 GMT+0000 (Coordinated Universal Time)",
   "project_id": "71f2594d-0153-4edf-bddb-0244d149f1f8",
   "version": "import"
  },
  "kernelspec": {
   "display_name": "Python 3",
   "language": "python",
   "name": "python3"
  },
  "language_info": {
   "codemirror_mode": {
    "name": "ipython",
    "version": 3
   },
   "file_extension": ".py",
   "mimetype": "text/x-python",
   "name": "python",
   "nbconvert_exporter": "python",
   "pygments_lexer": "ipython3",
   "version": "3.9.21"
  },
  "orig_nbformat": 4
 },
 "nbformat": 4,
 "nbformat_minor": 4
}
